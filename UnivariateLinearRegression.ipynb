{
  "nbformat": 4,
  "nbformat_minor": 0,
  "metadata": {
    "colab": {
      "name": "UnivariateLinearRegression.ipynb",
      "provenance": [],
      "collapsed_sections": [],
      "authorship_tag": "ABX9TyMr4e7ghv0cTufsPZ54tlgY",
      "include_colab_link": true
    },
    "kernelspec": {
      "name": "python3",
      "display_name": "Python 3"
    },
    "language_info": {
      "name": "python"
    }
  },
  "cells": [
    {
      "cell_type": "markdown",
      "metadata": {
        "id": "view-in-github",
        "colab_type": "text"
      },
      "source": [
        "<a href=\"https://colab.research.google.com/github/sm0602/MLnow_GirlScript/blob/main/UnivariateLinearRegression.ipynb\" target=\"_parent\"><img src=\"https://colab.research.google.com/assets/colab-badge.svg\" alt=\"Open In Colab\"/></a>"
      ]
    },
    {
      "cell_type": "code",
      "metadata": {
        "colab": {
          "base_uri": "https://localhost:8080/"
        },
        "id": "Wyvdx0occBMx",
        "outputId": "3a82070a-c6e4-498c-9a0b-4997c017053a"
      },
      "source": [
        "from google.colab import drive\n",
        "drive.mount('/content/drive')"
      ],
      "execution_count": null,
      "outputs": [
        {
          "output_type": "stream",
          "text": [
            "Mounted at /content/drive\n"
          ],
          "name": "stdout"
        }
      ]
    },
    {
      "cell_type": "code",
      "metadata": {
        "colab": {
          "base_uri": "https://localhost:8080/"
        },
        "id": "tkX_JsDkeGMl",
        "outputId": "b7abdfe6-16d4-4adf-d2ee-f15c36c9d38a"
      },
      "source": [
        "cd '/content/drive/MyDrive/LiveCodeSession/02_EDA/student'"
      ],
      "execution_count": null,
      "outputs": [
        {
          "output_type": "stream",
          "text": [
            "/content/drive/MyDrive/LiveCodeSession/02_EDA/student\n"
          ],
          "name": "stdout"
        }
      ]
    },
    {
      "cell_type": "code",
      "metadata": {
        "colab": {
          "base_uri": "https://localhost:8080/"
        },
        "id": "IUo-aLZleXJS",
        "outputId": "a1c0c442-4aa2-4955-f742-086db1f067ca"
      },
      "source": [
        "ls"
      ],
      "execution_count": null,
      "outputs": [
        {
          "output_type": "stream",
          "text": [
            "cleanedMathData.csv  student-merge.R  student.txt\n",
            "student-mat.csv      student-por.csv  univariate_MathData_2.csv\n"
          ],
          "name": "stdout"
        }
      ]
    },
    {
      "cell_type": "code",
      "metadata": {
        "id": "B-K2COmCfU_U"
      },
      "source": [
        "import os\n",
        "import pandas as pd\n",
        "import numpy as np\n",
        "import tensorflow as tf\n",
        "from tensorflow import keras"
      ],
      "execution_count": null,
      "outputs": []
    },
    {
      "cell_type": "code",
      "metadata": {
        "id": "CrplIZmDhPs8"
      },
      "source": [
        "mathData = pd.read_csv('student-mat.csv', sep=';')"
      ],
      "execution_count": null,
      "outputs": []
    },
    {
      "cell_type": "code",
      "metadata": {
        "colab": {
          "base_uri": "https://localhost:8080/",
          "height": 224
        },
        "id": "ylnSGU1Shgr5",
        "outputId": "ace9a952-cb81-4cbf-b4b7-39aa24c8a14e"
      },
      "source": [
        "mathData.head()"
      ],
      "execution_count": null,
      "outputs": [
        {
          "output_type": "execute_result",
          "data": {
            "text/html": [
              "<div>\n",
              "<style scoped>\n",
              "    .dataframe tbody tr th:only-of-type {\n",
              "        vertical-align: middle;\n",
              "    }\n",
              "\n",
              "    .dataframe tbody tr th {\n",
              "        vertical-align: top;\n",
              "    }\n",
              "\n",
              "    .dataframe thead th {\n",
              "        text-align: right;\n",
              "    }\n",
              "</style>\n",
              "<table border=\"1\" class=\"dataframe\">\n",
              "  <thead>\n",
              "    <tr style=\"text-align: right;\">\n",
              "      <th></th>\n",
              "      <th>school</th>\n",
              "      <th>sex</th>\n",
              "      <th>age</th>\n",
              "      <th>address</th>\n",
              "      <th>famsize</th>\n",
              "      <th>Pstatus</th>\n",
              "      <th>Medu</th>\n",
              "      <th>Fedu</th>\n",
              "      <th>Mjob</th>\n",
              "      <th>Fjob</th>\n",
              "      <th>reason</th>\n",
              "      <th>guardian</th>\n",
              "      <th>traveltime</th>\n",
              "      <th>studytime</th>\n",
              "      <th>failures</th>\n",
              "      <th>schoolsup</th>\n",
              "      <th>famsup</th>\n",
              "      <th>paid</th>\n",
              "      <th>activities</th>\n",
              "      <th>nursery</th>\n",
              "      <th>higher</th>\n",
              "      <th>internet</th>\n",
              "      <th>romantic</th>\n",
              "      <th>famrel</th>\n",
              "      <th>freetime</th>\n",
              "      <th>goout</th>\n",
              "      <th>Dalc</th>\n",
              "      <th>Walc</th>\n",
              "      <th>health</th>\n",
              "      <th>absences</th>\n",
              "      <th>G1</th>\n",
              "      <th>G2</th>\n",
              "      <th>G3</th>\n",
              "    </tr>\n",
              "  </thead>\n",
              "  <tbody>\n",
              "    <tr>\n",
              "      <th>0</th>\n",
              "      <td>GP</td>\n",
              "      <td>F</td>\n",
              "      <td>18</td>\n",
              "      <td>U</td>\n",
              "      <td>GT3</td>\n",
              "      <td>A</td>\n",
              "      <td>4</td>\n",
              "      <td>4</td>\n",
              "      <td>at_home</td>\n",
              "      <td>teacher</td>\n",
              "      <td>course</td>\n",
              "      <td>mother</td>\n",
              "      <td>2</td>\n",
              "      <td>2</td>\n",
              "      <td>0</td>\n",
              "      <td>yes</td>\n",
              "      <td>no</td>\n",
              "      <td>no</td>\n",
              "      <td>no</td>\n",
              "      <td>yes</td>\n",
              "      <td>yes</td>\n",
              "      <td>no</td>\n",
              "      <td>no</td>\n",
              "      <td>4</td>\n",
              "      <td>3</td>\n",
              "      <td>4</td>\n",
              "      <td>1</td>\n",
              "      <td>1</td>\n",
              "      <td>3</td>\n",
              "      <td>6</td>\n",
              "      <td>5</td>\n",
              "      <td>6</td>\n",
              "      <td>6</td>\n",
              "    </tr>\n",
              "    <tr>\n",
              "      <th>1</th>\n",
              "      <td>GP</td>\n",
              "      <td>F</td>\n",
              "      <td>17</td>\n",
              "      <td>U</td>\n",
              "      <td>GT3</td>\n",
              "      <td>T</td>\n",
              "      <td>1</td>\n",
              "      <td>1</td>\n",
              "      <td>at_home</td>\n",
              "      <td>other</td>\n",
              "      <td>course</td>\n",
              "      <td>father</td>\n",
              "      <td>1</td>\n",
              "      <td>2</td>\n",
              "      <td>0</td>\n",
              "      <td>no</td>\n",
              "      <td>yes</td>\n",
              "      <td>no</td>\n",
              "      <td>no</td>\n",
              "      <td>no</td>\n",
              "      <td>yes</td>\n",
              "      <td>yes</td>\n",
              "      <td>no</td>\n",
              "      <td>5</td>\n",
              "      <td>3</td>\n",
              "      <td>3</td>\n",
              "      <td>1</td>\n",
              "      <td>1</td>\n",
              "      <td>3</td>\n",
              "      <td>4</td>\n",
              "      <td>5</td>\n",
              "      <td>5</td>\n",
              "      <td>6</td>\n",
              "    </tr>\n",
              "    <tr>\n",
              "      <th>2</th>\n",
              "      <td>GP</td>\n",
              "      <td>F</td>\n",
              "      <td>15</td>\n",
              "      <td>U</td>\n",
              "      <td>LE3</td>\n",
              "      <td>T</td>\n",
              "      <td>1</td>\n",
              "      <td>1</td>\n",
              "      <td>at_home</td>\n",
              "      <td>other</td>\n",
              "      <td>other</td>\n",
              "      <td>mother</td>\n",
              "      <td>1</td>\n",
              "      <td>2</td>\n",
              "      <td>3</td>\n",
              "      <td>yes</td>\n",
              "      <td>no</td>\n",
              "      <td>yes</td>\n",
              "      <td>no</td>\n",
              "      <td>yes</td>\n",
              "      <td>yes</td>\n",
              "      <td>yes</td>\n",
              "      <td>no</td>\n",
              "      <td>4</td>\n",
              "      <td>3</td>\n",
              "      <td>2</td>\n",
              "      <td>2</td>\n",
              "      <td>3</td>\n",
              "      <td>3</td>\n",
              "      <td>10</td>\n",
              "      <td>7</td>\n",
              "      <td>8</td>\n",
              "      <td>10</td>\n",
              "    </tr>\n",
              "    <tr>\n",
              "      <th>3</th>\n",
              "      <td>GP</td>\n",
              "      <td>F</td>\n",
              "      <td>15</td>\n",
              "      <td>U</td>\n",
              "      <td>GT3</td>\n",
              "      <td>T</td>\n",
              "      <td>4</td>\n",
              "      <td>2</td>\n",
              "      <td>health</td>\n",
              "      <td>services</td>\n",
              "      <td>home</td>\n",
              "      <td>mother</td>\n",
              "      <td>1</td>\n",
              "      <td>3</td>\n",
              "      <td>0</td>\n",
              "      <td>no</td>\n",
              "      <td>yes</td>\n",
              "      <td>yes</td>\n",
              "      <td>yes</td>\n",
              "      <td>yes</td>\n",
              "      <td>yes</td>\n",
              "      <td>yes</td>\n",
              "      <td>yes</td>\n",
              "      <td>3</td>\n",
              "      <td>2</td>\n",
              "      <td>2</td>\n",
              "      <td>1</td>\n",
              "      <td>1</td>\n",
              "      <td>5</td>\n",
              "      <td>2</td>\n",
              "      <td>15</td>\n",
              "      <td>14</td>\n",
              "      <td>15</td>\n",
              "    </tr>\n",
              "    <tr>\n",
              "      <th>4</th>\n",
              "      <td>GP</td>\n",
              "      <td>F</td>\n",
              "      <td>16</td>\n",
              "      <td>U</td>\n",
              "      <td>GT3</td>\n",
              "      <td>T</td>\n",
              "      <td>3</td>\n",
              "      <td>3</td>\n",
              "      <td>other</td>\n",
              "      <td>other</td>\n",
              "      <td>home</td>\n",
              "      <td>father</td>\n",
              "      <td>1</td>\n",
              "      <td>2</td>\n",
              "      <td>0</td>\n",
              "      <td>no</td>\n",
              "      <td>yes</td>\n",
              "      <td>yes</td>\n",
              "      <td>no</td>\n",
              "      <td>yes</td>\n",
              "      <td>yes</td>\n",
              "      <td>no</td>\n",
              "      <td>no</td>\n",
              "      <td>4</td>\n",
              "      <td>3</td>\n",
              "      <td>2</td>\n",
              "      <td>1</td>\n",
              "      <td>2</td>\n",
              "      <td>5</td>\n",
              "      <td>4</td>\n",
              "      <td>6</td>\n",
              "      <td>10</td>\n",
              "      <td>10</td>\n",
              "    </tr>\n",
              "  </tbody>\n",
              "</table>\n",
              "</div>"
            ],
            "text/plain": [
              "  school sex  age address famsize Pstatus  ...  Walc  health absences  G1  G2  G3\n",
              "0     GP   F   18       U     GT3       A  ...     1       3        6   5   6   6\n",
              "1     GP   F   17       U     GT3       T  ...     1       3        4   5   5   6\n",
              "2     GP   F   15       U     LE3       T  ...     3       3       10   7   8  10\n",
              "3     GP   F   15       U     GT3       T  ...     1       5        2  15  14  15\n",
              "4     GP   F   16       U     GT3       T  ...     2       5        4   6  10  10\n",
              "\n",
              "[5 rows x 33 columns]"
            ]
          },
          "metadata": {
            "tags": []
          },
          "execution_count": 6
        }
      ]
    },
    {
      "cell_type": "markdown",
      "metadata": {
        "id": "EFpWRQn3iGVs"
      },
      "source": [
        "We are just going to consider the columns `G1` and `G3`  for univariate linear regression"
      ]
    },
    {
      "cell_type": "code",
      "metadata": {
        "colab": {
          "base_uri": "https://localhost:8080/",
          "height": 204
        },
        "id": "AH0iFZfzhzgp",
        "outputId": "e7c317a3-915b-4ec7-bc38-580f56ce3350"
      },
      "source": [
        "uniMathData = mathData[['G1','G3']]\n",
        "uniMathData.head()"
      ],
      "execution_count": null,
      "outputs": [
        {
          "output_type": "execute_result",
          "data": {
            "text/html": [
              "<div>\n",
              "<style scoped>\n",
              "    .dataframe tbody tr th:only-of-type {\n",
              "        vertical-align: middle;\n",
              "    }\n",
              "\n",
              "    .dataframe tbody tr th {\n",
              "        vertical-align: top;\n",
              "    }\n",
              "\n",
              "    .dataframe thead th {\n",
              "        text-align: right;\n",
              "    }\n",
              "</style>\n",
              "<table border=\"1\" class=\"dataframe\">\n",
              "  <thead>\n",
              "    <tr style=\"text-align: right;\">\n",
              "      <th></th>\n",
              "      <th>G1</th>\n",
              "      <th>G3</th>\n",
              "    </tr>\n",
              "  </thead>\n",
              "  <tbody>\n",
              "    <tr>\n",
              "      <th>0</th>\n",
              "      <td>5</td>\n",
              "      <td>6</td>\n",
              "    </tr>\n",
              "    <tr>\n",
              "      <th>1</th>\n",
              "      <td>5</td>\n",
              "      <td>6</td>\n",
              "    </tr>\n",
              "    <tr>\n",
              "      <th>2</th>\n",
              "      <td>7</td>\n",
              "      <td>10</td>\n",
              "    </tr>\n",
              "    <tr>\n",
              "      <th>3</th>\n",
              "      <td>15</td>\n",
              "      <td>15</td>\n",
              "    </tr>\n",
              "    <tr>\n",
              "      <th>4</th>\n",
              "      <td>6</td>\n",
              "      <td>10</td>\n",
              "    </tr>\n",
              "  </tbody>\n",
              "</table>\n",
              "</div>"
            ],
            "text/plain": [
              "   G1  G3\n",
              "0   5   6\n",
              "1   5   6\n",
              "2   7  10\n",
              "3  15  15\n",
              "4   6  10"
            ]
          },
          "metadata": {
            "tags": []
          },
          "execution_count": 7
        }
      ]
    },
    {
      "cell_type": "code",
      "metadata": {
        "id": "OwpdU4po0AFr"
      },
      "source": [
        "uniMathData.to_csv('univariate_MathData_2.csv')"
      ],
      "execution_count": null,
      "outputs": []
    },
    {
      "cell_type": "code",
      "metadata": {
        "colab": {
          "base_uri": "https://localhost:8080/"
        },
        "id": "RM4zJ6MF0Yjw",
        "outputId": "af28e4c1-66f7-47bb-8714-2224b6dbc54f"
      },
      "source": [
        "ls"
      ],
      "execution_count": null,
      "outputs": [
        {
          "output_type": "stream",
          "text": [
            "cleanedMathData.csv  student-merge.R  student.txt\n",
            "student-mat.csv      student-por.csv  univariate_MathData_2.csv\n"
          ],
          "name": "stdout"
        }
      ]
    },
    {
      "cell_type": "markdown",
      "metadata": {
        "id": "r2lAV9yp0ey1"
      },
      "source": [
        "#Data Visualization"
      ]
    },
    {
      "cell_type": "code",
      "metadata": {
        "colab": {
          "base_uri": "https://localhost:8080/",
          "height": 157
        },
        "id": "6Y_EZ5eg0jIM",
        "outputId": "83068086-1407-40a7-c90b-3872ddd1cb44"
      },
      "source": [
        "import seaborn as sns\n",
        "sns.palplot(sns.color_palette('PuOr')) #Purple to Orange colors\n",
        "pal = sns.color_palette('PuOr', 6) #print 6 color shades from Purple to Orange\n",
        "pal.as_hex() #set hex code values for colors\n",
        "\n",
        "import matplotlib.pyplot as plt\n",
        "plt.style.use(['seaborn'])\n",
        "sns_colors = ['#c6690c', '#664697'] #orange Purple hex codes\n",
        "sns.set_palette(sns_colors) #set the palette as sns_colors \n",
        "sns.palplot(sns.color_palette(sns_colors)) #plot the color codes"
      ],
      "execution_count": null,
      "outputs": [
        {
          "output_type": "display_data",
          "data": {
            "image/png": "[encoded data removed]",
            "text/plain": [
              "<Figure size 432x72 with 1 Axes>"
            ]
          },
          "metadata": {
            "tags": [],
            "needs_background": "light"
          }
        },
        {
          "output_type": "display_data",
          "data": {
            "image/png": "[encoded data removed]",
            "text/plain": [
              "<Figure size 144x72 with 1 Axes>"
            ]
          },
          "metadata": {
            "tags": []
          }
        }
      ]
    },
    {
      "cell_type": "code",
      "metadata": {
        "colab": {
          "base_uri": "https://localhost:8080/"
        },
        "id": "rY-46zBf1vix",
        "outputId": "c5760226-cace-4fa4-e30f-afa9aa0bed22"
      },
      "source": [
        "uniMathData.columns"
      ],
      "execution_count": null,
      "outputs": [
        {
          "output_type": "execute_result",
          "data": {
            "text/plain": [
              "Index(['G1', 'G3'], dtype='object')"
            ]
          },
          "metadata": {
            "tags": []
          },
          "execution_count": 11
        }
      ]
    },
    {
      "cell_type": "code",
      "metadata": {
        "colab": {
          "base_uri": "https://localhost:8080/",
          "height": 391
        },
        "id": "0Z74ZqjL12Lf",
        "outputId": "057deac9-138d-40bf-f0c7-b0bdfe6ec4b2"
      },
      "source": [
        "#pairplot for all the values\n",
        "\n",
        "sns.pairplot(uniMathData,\n",
        "             x_vars = ['G1', 'G3'],\n",
        "             y_vars = ['G1', 'G3'],\n",
        "             diag_kind = 'kde')"
      ],
      "execution_count": null,
      "outputs": [
        {
          "output_type": "execute_result",
          "data": {
            "text/plain": [
              "<seaborn.axisgrid.PairGrid at 0x7f51e22a1390>"
            ]
          },
          "metadata": {
            "tags": []
          },
          "execution_count": 12
        },
        {
          "output_type": "display_data",
          "data": {
            "image/png": "[encoded data removed]",
            "text/plain": [
              "<Figure size 360x360 with 6 Axes>"
            ]
          },
          "metadata": {
            "tags": []
          }
        }
      ]
    },
    {
      "cell_type": "markdown",
      "metadata": {
        "id": "SiPM0V9F2fP8"
      },
      "source": [
        "#Data Splits"
      ]
    },
    {
      "cell_type": "code",
      "metadata": {
        "colab": {
          "base_uri": "https://localhost:8080/"
        },
        "id": "hr0S2pUW2dU3",
        "outputId": "c5a7f2a3-ca4a-4801-da2f-1d4bb42d2d4b"
      },
      "source": [
        "#80-20 train-test percent split\n",
        "\n",
        "trainDataset = uniMathData.sample(frac=0.8, random_state=0)\n",
        "testDataset = uniMathData.drop(trainDataset.index)\n",
        "\n",
        "print(trainDataset.head())\n",
        "print(testDataset.head())"
      ],
      "execution_count": null,
      "outputs": [
        {
          "output_type": "stream",
          "text": [
            "     G1  G3\n",
            "329  14  14\n",
            "318  11  10\n",
            "317   9   9\n",
            "65   16  15\n",
            "59   15  16\n",
            "    G1  G3\n",
            "9   14  15\n",
            "25   6   8\n",
            "28  11  11\n",
            "31  17  17\n",
            "32  17  16\n"
          ],
          "name": "stdout"
        }
      ]
    },
    {
      "cell_type": "code",
      "metadata": {
        "colab": {
          "base_uri": "https://localhost:8080/"
        },
        "id": "Y_ISomY33Ztn",
        "outputId": "06d582b5-b9ee-416a-a040-026b6a827133"
      },
      "source": [
        "print(trainDataset.shape)\n",
        "print(testDataset.shape)"
      ],
      "execution_count": null,
      "outputs": [
        {
          "output_type": "stream",
          "text": [
            "(316, 2)\n",
            "(79, 2)\n"
          ],
          "name": "stdout"
        }
      ]
    },
    {
      "cell_type": "code",
      "metadata": {
        "colab": {
          "base_uri": "https://localhost:8080/"
        },
        "id": "yNZ8w2QW3jGI",
        "outputId": "f65c0177-27c4-4f3c-8149-29220bb2b16e"
      },
      "source": [
        "# copy the trainDataset dataframe for getting the features\n",
        "\n",
        "trainFeatures = trainDataset.copy()\n",
        "testFeatures = testDataset.copy()\n",
        "\n",
        "print(trainFeatures.head())\n",
        "print(testFeatures.head())"
      ],
      "execution_count": null,
      "outputs": [
        {
          "output_type": "stream",
          "text": [
            "     G1  G3\n",
            "329  14  14\n",
            "318  11  10\n",
            "317   9   9\n",
            "65   16  15\n",
            "59   15  16\n",
            "    G1  G3\n",
            "9   14  15\n",
            "25   6   8\n",
            "28  11  11\n",
            "31  17  17\n",
            "32  17  16\n"
          ],
          "name": "stdout"
        }
      ]
    },
    {
      "cell_type": "code",
      "metadata": {
        "colab": {
          "base_uri": "https://localhost:8080/"
        },
        "id": "m7b7NImd3_bC",
        "outputId": "344d27be-f3d9-4618-fe5e-d97478d0ea7d"
      },
      "source": [
        "# removing the G3 column and saving it into the labels variable\n",
        "\n",
        "trainLabels = trainFeatures.pop('G3')\n",
        "testLabels = testFeatures.pop('G3')\n",
        "\n",
        "print(trainLabels.head())\n",
        "print(testLabels.head())"
      ],
      "execution_count": null,
      "outputs": [
        {
          "output_type": "stream",
          "text": [
            "329    14\n",
            "318    10\n",
            "317     9\n",
            "65     15\n",
            "59     16\n",
            "Name: G3, dtype: int64\n",
            "9     15\n",
            "25     8\n",
            "28    11\n",
            "31    17\n",
            "32    16\n",
            "Name: G3, dtype: int64\n"
          ],
          "name": "stdout"
        }
      ]
    },
    {
      "cell_type": "code",
      "metadata": {
        "colab": {
          "base_uri": "https://localhost:8080/"
        },
        "id": "bNA9Oen84mGn",
        "outputId": "38bc09c2-7fda-42cd-d5ba-8c278013f44f"
      },
      "source": [
        "print(trainFeatures.head())\n",
        "print(testFeatures.head())"
      ],
      "execution_count": null,
      "outputs": [
        {
          "output_type": "stream",
          "text": [
            "     G1\n",
            "329  14\n",
            "318  11\n",
            "317   9\n",
            "65   16\n",
            "59   15\n",
            "    G1\n",
            "9   14\n",
            "25   6\n",
            "28  11\n",
            "31  17\n",
            "32  17\n"
          ],
          "name": "stdout"
        }
      ]
    },
    {
      "cell_type": "code",
      "metadata": {
        "id": "E1CvOaMZ5PFA"
      },
      "source": [
        "# univariate -> num(features) = 1\n",
        "# multivariate -> num(features) > 1 = 11\n",
        "\n",
        "model = tf.keras.Sequential([\n",
        "                             tf.keras.layers.Dense(1)\n",
        "])"
      ],
      "execution_count": null,
      "outputs": []
    },
    {
      "cell_type": "code",
      "metadata": {
        "id": "u0Uf64-v82VF"
      },
      "source": [
        "model.compile(\n",
        "    loss = 'mean_absolute_error', #minimizing the MAE loss\n",
        "    optimizer = tf.keras.optimizers.Adam(0.001), #learning rate specified as 0.001\n",
        "    # optimizer = 'adam', #takes the default learning rate\n",
        "    metrics = ['mae', 'mse'] #meanSquare and meanAbsolute error metrics\n",
        ")"
      ],
      "execution_count": null,
      "outputs": []
    },
    {
      "cell_type": "code",
      "metadata": {
        "colab": {
          "base_uri": "https://localhost:8080/"
        },
        "id": "dOed4DJh9piQ",
        "outputId": "8ce07340-945f-4330-942d-0d1779f36556"
      },
      "source": [
        "numEpochs = 300\n",
        "history = model.fit(x = trainFeatures, y = trainLabels, validation_data = (testFeatures, testLabels), epochs = numEpochs)"
      ],
      "execution_count": null,
      "outputs": [
        {
          "output_type": "stream",
          "text": [
            "Epoch 1/300\n",
            "10/10 [==============================] - 1s 19ms/step - loss: 12.3138 - mae: 12.3138 - mse: 177.2415 - val_loss: 12.9332 - val_mae: 12.9332 - val_mse: 193.4912\n",
            "Epoch 2/300\n",
            "10/10 [==============================] - 0s 3ms/step - loss: 12.1968 - mae: 12.1968 - mse: 174.1331 - val_loss: 12.8083 - val_mae: 12.8083 - val_mse: 189.9650\n",
            "Epoch 3/300\n",
            "10/10 [==============================] - 0s 3ms/step - loss: 12.0793 - mae: 12.0793 - mse: 171.0200 - val_loss: 12.6836 - val_mae: 12.6836 - val_mse: 186.4795\n",
            "Epoch 4/300\n",
            "10/10 [==============================] - 0s 3ms/step - loss: 11.9619 - mae: 11.9619 - mse: 167.9436 - val_loss: 12.5590 - val_mae: 12.5590 - val_mse: 183.0278\n",
            "Epoch 5/300\n",
            "10/10 [==============================] - 0s 3ms/step - loss: 11.8438 - mae: 11.8438 - mse: 164.8409 - val_loss: 12.4349 - val_mae: 12.4349 - val_mse: 179.6252\n",
            "Epoch 6/300\n",
            "10/10 [==============================] - 0s 3ms/step - loss: 11.7270 - mae: 11.7270 - mse: 161.8219 - val_loss: 12.3102 - val_mae: 12.3102 - val_mse: 176.2383\n",
            "Epoch 7/300\n",
            "10/10 [==============================] - 0s 7ms/step - loss: 11.6095 - mae: 11.6095 - mse: 158.8282 - val_loss: 12.1856 - val_mae: 12.1856 - val_mse: 172.8880\n",
            "Epoch 8/300\n",
            "10/10 [==============================] - 0s 3ms/step - loss: 11.4919 - mae: 11.4919 - mse: 155.8408 - val_loss: 12.0612 - val_mae: 12.0612 - val_mse: 169.5772\n",
            "Epoch 9/300\n",
            "10/10 [==============================] - 0s 3ms/step - loss: 11.3743 - mae: 11.3743 - mse: 152.8925 - val_loss: 11.9369 - val_mae: 11.9369 - val_mse: 166.3010\n",
            "Epoch 10/300\n",
            "10/10 [==============================] - 0s 3ms/step - loss: 11.2568 - mae: 11.2568 - mse: 149.9798 - val_loss: 11.8126 - val_mae: 11.8126 - val_mse: 163.0568\n",
            "Epoch 11/300\n",
            "10/10 [==============================] - 0s 3ms/step - loss: 11.1391 - mae: 11.1391 - mse: 147.0761 - val_loss: 11.6883 - val_mae: 11.6883 - val_mse: 159.8480\n",
            "Epoch 12/300\n",
            "10/10 [==============================] - 0s 5ms/step - loss: 11.0222 - mae: 11.0222 - mse: 144.2440 - val_loss: 11.5634 - val_mae: 11.5634 - val_mse: 156.6577\n",
            "Epoch 13/300\n",
            "10/10 [==============================] - 0s 3ms/step - loss: 10.9042 - mae: 10.9042 - mse: 141.4212 - val_loss: 11.4389 - val_mae: 11.4389 - val_mse: 153.5100\n",
            "Epoch 14/300\n",
            "10/10 [==============================] - 0s 4ms/step - loss: 10.7870 - mae: 10.7870 - mse: 138.6286 - val_loss: 11.3142 - val_mae: 11.3142 - val_mse: 150.3888\n",
            "Epoch 15/300\n",
            "10/10 [==============================] - 0s 3ms/step - loss: 10.6692 - mae: 10.6692 - mse: 135.8586 - val_loss: 11.1898 - val_mae: 11.1898 - val_mse: 147.3108\n",
            "Epoch 16/300\n",
            "10/10 [==============================] - 0s 5ms/step - loss: 10.5510 - mae: 10.5510 - mse: 133.0661 - val_loss: 11.0661 - val_mae: 11.0661 - val_mse: 144.2820\n",
            "Epoch 17/300\n",
            "10/10 [==============================] - 0s 4ms/step - loss: 10.4356 - mae: 10.4356 - mse: 130.4019 - val_loss: 10.9451 - val_mae: 10.9451 - val_mse: 141.2898\n",
            "Epoch 18/300\n",
            "10/10 [==============================] - 0s 3ms/step - loss: 10.3287 - mae: 10.3287 - mse: 127.7805 - val_loss: 10.8406 - val_mae: 10.8406 - val_mse: 138.4664\n",
            "Epoch 19/300\n",
            "10/10 [==============================] - 0s 4ms/step - loss: 10.2342 - mae: 10.2342 - mse: 125.3502 - val_loss: 10.7425 - val_mae: 10.7425 - val_mse: 135.8356\n",
            "Epoch 20/300\n",
            "10/10 [==============================] - 0s 3ms/step - loss: 10.1466 - mae: 10.1466 - mse: 123.0072 - val_loss: 10.6438 - val_mae: 10.6438 - val_mse: 133.2152\n",
            "Epoch 21/300\n",
            "10/10 [==============================] - 0s 3ms/step - loss: 10.0565 - mae: 10.0565 - mse: 120.7103 - val_loss: 10.5467 - val_mae: 10.5467 - val_mse: 130.6629\n",
            "Epoch 22/300\n",
            "10/10 [==============================] - 0s 3ms/step - loss: 9.9674 - mae: 9.9674 - mse: 118.4223 - val_loss: 10.4498 - val_mae: 10.4498 - val_mse: 128.1419\n",
            "Epoch 23/300\n",
            "10/10 [==============================] - 0s 3ms/step - loss: 9.8780 - mae: 9.8780 - mse: 116.1899 - val_loss: 10.3524 - val_mae: 10.3524 - val_mse: 125.6352\n",
            "Epoch 24/300\n",
            "10/10 [==============================] - 0s 3ms/step - loss: 9.7888 - mae: 9.7888 - mse: 113.9688 - val_loss: 10.2538 - val_mae: 10.2538 - val_mse: 123.1245\n",
            "Epoch 25/300\n",
            "10/10 [==============================] - 0s 3ms/step - loss: 9.7000 - mae: 9.7000 - mse: 111.7497 - val_loss: 10.1535 - val_mae: 10.1535 - val_mse: 120.5978\n",
            "Epoch 26/300\n",
            "10/10 [==============================] - 0s 3ms/step - loss: 9.6080 - mae: 9.6080 - mse: 109.4844 - val_loss: 10.0546 - val_mae: 10.0546 - val_mse: 118.1306\n",
            "Epoch 27/300\n",
            "10/10 [==============================] - 0s 3ms/step - loss: 9.5168 - mae: 9.5168 - mse: 107.3086 - val_loss: 9.9559 - val_mae: 9.9559 - val_mse: 115.6972\n",
            "Epoch 28/300\n",
            "10/10 [==============================] - 0s 3ms/step - loss: 9.4272 - mae: 9.4272 - mse: 105.1324 - val_loss: 9.8553 - val_mae: 9.8553 - val_mse: 113.2448\n",
            "Epoch 29/300\n",
            "10/10 [==============================] - 0s 3ms/step - loss: 9.3353 - mae: 9.3353 - mse: 102.9615 - val_loss: 9.7550 - val_mae: 9.7550 - val_mse: 110.8291\n",
            "Epoch 30/300\n",
            "10/10 [==============================] - 0s 3ms/step - loss: 9.2435 - mae: 9.2435 - mse: 100.8000 - val_loss: 9.6547 - val_mae: 9.6547 - val_mse: 108.4396\n",
            "Epoch 31/300\n",
            "10/10 [==============================] - 0s 3ms/step - loss: 9.1509 - mae: 9.1509 - mse: 98.6589 - val_loss: 9.5549 - val_mae: 9.5549 - val_mse: 106.0877\n",
            "Epoch 32/300\n",
            "10/10 [==============================] - 0s 4ms/step - loss: 9.0590 - mae: 9.0590 - mse: 96.5625 - val_loss: 9.4539 - val_mae: 9.4539 - val_mse: 103.7378\n",
            "Epoch 33/300\n",
            "10/10 [==============================] - 0s 4ms/step - loss: 8.9664 - mae: 8.9664 - mse: 94.4964 - val_loss: 9.3528 - val_mae: 9.3528 - val_mse: 101.4123\n",
            "Epoch 34/300\n",
            "10/10 [==============================] - 0s 3ms/step - loss: 8.8740 - mae: 8.8740 - mse: 92.4114 - val_loss: 9.2511 - val_mae: 9.2511 - val_mse: 99.1027\n",
            "Epoch 35/300\n",
            "10/10 [==============================] - 0s 4ms/step - loss: 8.7813 - mae: 8.7813 - mse: 90.3529 - val_loss: 9.1488 - val_mae: 9.1488 - val_mse: 96.8066\n",
            "Epoch 36/300\n",
            "10/10 [==============================] - 0s 4ms/step - loss: 8.6877 - mae: 8.6877 - mse: 88.3326 - val_loss: 9.0467 - val_mae: 9.0467 - val_mse: 94.5449\n",
            "Epoch 37/300\n",
            "10/10 [==============================] - 0s 4ms/step - loss: 8.5946 - mae: 8.5946 - mse: 86.3094 - val_loss: 8.9441 - val_mae: 8.9441 - val_mse: 92.3011\n",
            "Epoch 38/300\n",
            "10/10 [==============================] - 0s 3ms/step - loss: 8.5004 - mae: 8.5004 - mse: 84.3155 - val_loss: 8.8418 - val_mae: 8.8418 - val_mse: 90.0916\n",
            "Epoch 39/300\n",
            "10/10 [==============================] - 0s 4ms/step - loss: 8.4061 - mae: 8.4061 - mse: 82.3314 - val_loss: 8.7397 - val_mae: 8.7397 - val_mse: 87.9161\n",
            "Epoch 40/300\n",
            "10/10 [==============================] - 0s 3ms/step - loss: 8.3129 - mae: 8.3129 - mse: 80.4142 - val_loss: 8.6364 - val_mae: 8.6364 - val_mse: 85.7435\n",
            "Epoch 41/300\n",
            "10/10 [==============================] - 0s 5ms/step - loss: 8.2203 - mae: 8.2203 - mse: 78.5142 - val_loss: 8.5315 - val_mae: 8.5315 - val_mse: 83.5669\n",
            "Epoch 42/300\n",
            "10/10 [==============================] - 0s 3ms/step - loss: 8.1236 - mae: 8.1236 - mse: 76.5703 - val_loss: 8.4288 - val_mae: 8.4288 - val_mse: 81.4673\n",
            "Epoch 43/300\n",
            "10/10 [==============================] - 0s 3ms/step - loss: 8.0291 - mae: 8.0291 - mse: 74.7208 - val_loss: 8.3262 - val_mae: 8.3262 - val_mse: 79.3964\n",
            "Epoch 44/300\n",
            "10/10 [==============================] - 0s 4ms/step - loss: 7.9359 - mae: 7.9359 - mse: 72.8636 - val_loss: 8.2219 - val_mae: 8.2219 - val_mse: 77.3211\n",
            "Epoch 45/300\n",
            "10/10 [==============================] - 0s 4ms/step - loss: 7.8392 - mae: 7.8392 - mse: 71.0112 - val_loss: 8.1195 - val_mae: 8.1195 - val_mse: 75.3152\n",
            "Epoch 46/300\n",
            "10/10 [==============================] - 0s 4ms/step - loss: 7.7463 - mae: 7.7463 - mse: 69.2577 - val_loss: 8.0148 - val_mae: 8.0148 - val_mse: 73.2917\n",
            "Epoch 47/300\n",
            "10/10 [==============================] - 0s 6ms/step - loss: 7.6496 - mae: 7.6496 - mse: 67.4413 - val_loss: 7.9117 - val_mae: 7.9117 - val_mse: 71.3283\n",
            "Epoch 48/300\n",
            "10/10 [==============================] - 0s 4ms/step - loss: 7.5547 - mae: 7.5547 - mse: 65.6793 - val_loss: 7.8080 - val_mae: 7.8080 - val_mse: 69.3844\n",
            "Epoch 49/300\n",
            "10/10 [==============================] - 0s 3ms/step - loss: 7.4611 - mae: 7.4611 - mse: 63.9571 - val_loss: 7.7022 - val_mae: 7.7022 - val_mse: 67.4314\n",
            "Epoch 50/300\n",
            "10/10 [==============================] - 0s 3ms/step - loss: 7.3646 - mae: 7.3646 - mse: 62.2607 - val_loss: 7.5977 - val_mae: 7.5977 - val_mse: 65.5323\n",
            "Epoch 51/300\n",
            "10/10 [==============================] - 0s 4ms/step - loss: 7.2683 - mae: 7.2683 - mse: 60.5480 - val_loss: 7.4939 - val_mae: 7.4939 - val_mse: 63.6760\n",
            "Epoch 52/300\n",
            "10/10 [==============================] - 0s 3ms/step - loss: 7.1746 - mae: 7.1746 - mse: 58.9111 - val_loss: 7.3877 - val_mae: 7.3877 - val_mse: 61.8068\n",
            "Epoch 53/300\n",
            "10/10 [==============================] - 0s 3ms/step - loss: 7.0767 - mae: 7.0767 - mse: 57.2446 - val_loss: 7.2839 - val_mae: 7.2839 - val_mse: 60.0093\n",
            "Epoch 54/300\n",
            "10/10 [==============================] - 0s 4ms/step - loss: 6.9813 - mae: 6.9813 - mse: 55.6460 - val_loss: 7.1795 - val_mae: 7.1795 - val_mse: 58.2329\n",
            "Epoch 55/300\n",
            "10/10 [==============================] - 0s 3ms/step - loss: 6.8867 - mae: 6.8867 - mse: 54.0935 - val_loss: 7.0738 - val_mae: 7.0738 - val_mse: 56.4638\n",
            "Epoch 56/300\n",
            "10/10 [==============================] - 0s 4ms/step - loss: 6.7900 - mae: 6.7900 - mse: 52.5017 - val_loss: 6.9689 - val_mae: 6.9689 - val_mse: 54.7385\n",
            "Epoch 57/300\n",
            "10/10 [==============================] - 0s 5ms/step - loss: 6.6937 - mae: 6.6937 - mse: 50.9886 - val_loss: 6.8640 - val_mae: 6.8640 - val_mse: 53.0439\n",
            "Epoch 58/300\n",
            "10/10 [==============================] - 0s 4ms/step - loss: 6.5976 - mae: 6.5976 - mse: 49.4881 - val_loss: 6.7588 - val_mae: 6.7588 - val_mse: 51.3754\n",
            "Epoch 59/300\n",
            "10/10 [==============================] - 0s 4ms/step - loss: 6.5027 - mae: 6.5027 - mse: 48.0286 - val_loss: 6.6521 - val_mae: 6.6521 - val_mse: 49.7138\n",
            "Epoch 60/300\n",
            "10/10 [==============================] - 0s 3ms/step - loss: 6.4032 - mae: 6.4032 - mse: 46.5162 - val_loss: 6.5487 - val_mae: 6.5487 - val_mse: 48.1320\n",
            "Epoch 61/300\n",
            "10/10 [==============================] - 0s 4ms/step - loss: 6.3100 - mae: 6.3100 - mse: 45.1356 - val_loss: 6.4414 - val_mae: 6.4414 - val_mse: 46.5241\n",
            "Epoch 62/300\n",
            "10/10 [==============================] - 0s 3ms/step - loss: 6.2115 - mae: 6.2115 - mse: 43.7183 - val_loss: 6.3365 - val_mae: 6.3365 - val_mse: 44.9807\n",
            "Epoch 63/300\n",
            "10/10 [==============================] - 0s 4ms/step - loss: 6.1149 - mae: 6.1149 - mse: 42.3373 - val_loss: 6.2314 - val_mae: 6.2314 - val_mse: 43.4651\n",
            "Epoch 64/300\n",
            "10/10 [==============================] - 0s 3ms/step - loss: 6.0197 - mae: 6.0197 - mse: 41.0078 - val_loss: 6.1245 - val_mae: 6.1245 - val_mse: 41.9554\n",
            "Epoch 65/300\n",
            "10/10 [==============================] - 0s 3ms/step - loss: 5.9229 - mae: 5.9229 - mse: 39.6898 - val_loss: 6.0178 - val_mae: 6.0178 - val_mse: 40.4809\n",
            "Epoch 66/300\n",
            "10/10 [==============================] - 0s 3ms/step - loss: 5.8251 - mae: 5.8251 - mse: 38.3672 - val_loss: 5.9126 - val_mae: 5.9126 - val_mse: 39.0560\n",
            "Epoch 67/300\n",
            "10/10 [==============================] - 0s 4ms/step - loss: 5.7275 - mae: 5.7275 - mse: 37.1008 - val_loss: 5.8080 - val_mae: 5.8080 - val_mse: 37.6696\n",
            "Epoch 68/300\n",
            "10/10 [==============================] - 0s 4ms/step - loss: 5.6325 - mae: 5.6325 - mse: 35.8822 - val_loss: 5.7012 - val_mae: 5.7012 - val_mse: 36.2858\n",
            "Epoch 69/300\n",
            "10/10 [==============================] - 0s 4ms/step - loss: 5.5348 - mae: 5.5348 - mse: 34.6685 - val_loss: 5.5952 - val_mae: 5.5952 - val_mse: 34.9433\n",
            "Epoch 70/300\n",
            "10/10 [==============================] - 0s 3ms/step - loss: 5.4390 - mae: 5.4390 - mse: 33.4886 - val_loss: 5.4880 - val_mae: 5.4880 - val_mse: 33.6167\n",
            "Epoch 71/300\n",
            "10/10 [==============================] - 0s 4ms/step - loss: 5.3397 - mae: 5.3397 - mse: 32.2910 - val_loss: 5.3830 - val_mae: 5.3830 - val_mse: 32.3484\n",
            "Epoch 72/300\n",
            "10/10 [==============================] - 0s 3ms/step - loss: 5.2427 - mae: 5.2427 - mse: 31.1521 - val_loss: 5.2778 - val_mae: 5.2778 - val_mse: 31.1076\n",
            "Epoch 73/300\n",
            "10/10 [==============================] - 0s 5ms/step - loss: 5.1482 - mae: 5.1482 - mse: 30.0782 - val_loss: 5.1694 - val_mae: 5.1694 - val_mse: 29.8616\n",
            "Epoch 74/300\n",
            "10/10 [==============================] - 0s 4ms/step - loss: 5.0490 - mae: 5.0490 - mse: 28.9843 - val_loss: 5.0631 - val_mae: 5.0631 - val_mse: 28.6696\n",
            "Epoch 75/300\n",
            "10/10 [==============================] - 0s 4ms/step - loss: 4.9528 - mae: 4.9528 - mse: 27.9541 - val_loss: 4.9554 - val_mae: 4.9554 - val_mse: 27.4949\n",
            "Epoch 76/300\n",
            "10/10 [==============================] - 0s 4ms/step - loss: 4.8527 - mae: 4.8527 - mse: 26.8830 - val_loss: 4.8508 - val_mae: 4.8508 - val_mse: 26.3843\n",
            "Epoch 77/300\n",
            "10/10 [==============================] - 0s 4ms/step - loss: 4.7586 - mae: 4.7586 - mse: 25.9345 - val_loss: 4.7440 - val_mae: 4.7440 - val_mse: 25.2684\n",
            "Epoch 78/300\n",
            "10/10 [==============================] - 0s 4ms/step - loss: 4.6596 - mae: 4.6596 - mse: 24.9469 - val_loss: 4.6402 - val_mae: 4.6402 - val_mse: 24.2052\n",
            "Epoch 79/300\n",
            "10/10 [==============================] - 0s 4ms/step - loss: 4.5626 - mae: 4.5626 - mse: 23.9860 - val_loss: 4.5368 - val_mae: 4.5368 - val_mse: 23.1766\n",
            "Epoch 80/300\n",
            "10/10 [==============================] - 0s 3ms/step - loss: 4.4659 - mae: 4.4659 - mse: 23.0795 - val_loss: 4.4334 - val_mae: 4.4334 - val_mse: 22.1795\n",
            "Epoch 81/300\n",
            "10/10 [==============================] - 0s 3ms/step - loss: 4.3707 - mae: 4.3707 - mse: 22.2053 - val_loss: 4.3284 - val_mae: 4.3284 - val_mse: 21.1973\n",
            "Epoch 82/300\n",
            "10/10 [==============================] - 0s 5ms/step - loss: 4.2725 - mae: 4.2725 - mse: 21.3238 - val_loss: 4.2251 - val_mae: 4.2251 - val_mse: 20.2630\n",
            "Epoch 83/300\n",
            "10/10 [==============================] - 0s 3ms/step - loss: 4.1764 - mae: 4.1764 - mse: 20.5023 - val_loss: 4.1221 - val_mae: 4.1221 - val_mse: 19.3613\n",
            "Epoch 84/300\n",
            "10/10 [==============================] - 0s 3ms/step - loss: 4.0823 - mae: 4.0823 - mse: 19.7180 - val_loss: 4.0177 - val_mae: 4.0177 - val_mse: 18.4778\n",
            "Epoch 85/300\n",
            "10/10 [==============================] - 0s 4ms/step - loss: 3.9871 - mae: 3.9871 - mse: 18.9478 - val_loss: 3.9139 - val_mae: 3.9139 - val_mse: 17.6312\n",
            "Epoch 86/300\n",
            "10/10 [==============================] - 0s 3ms/step - loss: 3.8908 - mae: 3.8908 - mse: 18.1906 - val_loss: 3.8121 - val_mae: 3.8121 - val_mse: 16.8308\n",
            "Epoch 87/300\n",
            "10/10 [==============================] - 0s 3ms/step - loss: 3.7984 - mae: 3.7984 - mse: 17.5028 - val_loss: 3.7090 - val_mae: 3.7090 - val_mse: 16.0496\n",
            "Epoch 88/300\n",
            "10/10 [==============================] - 0s 4ms/step - loss: 3.7046 - mae: 3.7046 - mse: 16.8125 - val_loss: 3.6058 - val_mae: 3.6058 - val_mse: 15.2993\n",
            "Epoch 89/300\n",
            "10/10 [==============================] - 0s 3ms/step - loss: 3.6122 - mae: 3.6122 - mse: 16.1719 - val_loss: 3.5034 - val_mae: 3.5034 - val_mse: 14.5846\n",
            "Epoch 90/300\n",
            "10/10 [==============================] - 0s 3ms/step - loss: 3.5212 - mae: 3.5212 - mse: 15.5392 - val_loss: 3.4031 - val_mae: 3.4031 - val_mse: 13.9131\n",
            "Epoch 91/300\n",
            "10/10 [==============================] - 0s 4ms/step - loss: 3.4317 - mae: 3.4317 - mse: 14.9541 - val_loss: 3.3028 - val_mae: 3.3028 - val_mse: 13.2712\n",
            "Epoch 92/300\n",
            "10/10 [==============================] - 0s 5ms/step - loss: 3.3416 - mae: 3.3416 - mse: 14.3743 - val_loss: 3.2035 - val_mae: 3.2035 - val_mse: 12.6640\n",
            "Epoch 93/300\n",
            "10/10 [==============================] - 0s 5ms/step - loss: 3.2540 - mae: 3.2540 - mse: 13.8327 - val_loss: 3.1030 - val_mae: 3.1030 - val_mse: 12.0779\n",
            "Epoch 94/300\n",
            "10/10 [==============================] - 0s 4ms/step - loss: 3.1669 - mae: 3.1669 - mse: 13.3351 - val_loss: 3.0038 - val_mae: 3.0038 - val_mse: 11.5259\n",
            "Epoch 95/300\n",
            "10/10 [==============================] - 0s 4ms/step - loss: 3.0796 - mae: 3.0796 - mse: 12.8483 - val_loss: 2.9086 - val_mae: 2.9086 - val_mse: 11.0079\n",
            "Epoch 96/300\n",
            "10/10 [==============================] - 0s 4ms/step - loss: 2.9955 - mae: 2.9955 - mse: 12.4199 - val_loss: 2.8124 - val_mae: 2.8124 - val_mse: 10.5133\n",
            "Epoch 97/300\n",
            "10/10 [==============================] - 0s 4ms/step - loss: 2.9121 - mae: 2.9121 - mse: 11.9833 - val_loss: 2.7186 - val_mae: 2.7186 - val_mse: 10.0542\n",
            "Epoch 98/300\n",
            "10/10 [==============================] - 0s 3ms/step - loss: 2.8317 - mae: 2.8317 - mse: 11.5837 - val_loss: 2.6306 - val_mae: 2.6306 - val_mse: 9.6306\n",
            "Epoch 99/300\n",
            "10/10 [==============================] - 0s 3ms/step - loss: 2.7527 - mae: 2.7527 - mse: 11.2177 - val_loss: 2.5472 - val_mae: 2.5472 - val_mse: 9.2472\n",
            "Epoch 100/300\n",
            "10/10 [==============================] - 0s 3ms/step - loss: 2.6803 - mae: 2.6803 - mse: 10.8952 - val_loss: 2.4610 - val_mae: 2.4610 - val_mse: 8.8771\n",
            "Epoch 101/300\n",
            "10/10 [==============================] - 0s 3ms/step - loss: 2.6029 - mae: 2.6029 - mse: 10.5631 - val_loss: 2.3799 - val_mae: 2.3799 - val_mse: 8.5525\n",
            "Epoch 102/300\n",
            "10/10 [==============================] - 0s 5ms/step - loss: 2.5312 - mae: 2.5312 - mse: 10.2866 - val_loss: 2.2993 - val_mae: 2.2993 - val_mse: 8.2528\n",
            "Epoch 103/300\n",
            "10/10 [==============================] - 0s 4ms/step - loss: 2.4652 - mae: 2.4652 - mse: 10.0385 - val_loss: 2.2184 - val_mae: 2.2184 - val_mse: 7.9751\n",
            "Epoch 104/300\n",
            "10/10 [==============================] - 0s 4ms/step - loss: 2.4006 - mae: 2.4006 - mse: 9.7844 - val_loss: 2.1448 - val_mae: 2.1448 - val_mse: 7.7374\n",
            "Epoch 105/300\n",
            "10/10 [==============================] - 0s 4ms/step - loss: 2.3446 - mae: 2.3446 - mse: 9.6061 - val_loss: 2.0721 - val_mae: 2.0721 - val_mse: 7.5214\n",
            "Epoch 106/300\n",
            "10/10 [==============================] - 0s 4ms/step - loss: 2.2890 - mae: 2.2890 - mse: 9.4093 - val_loss: 2.0036 - val_mae: 2.0036 - val_mse: 7.3313\n",
            "Epoch 107/300\n",
            "10/10 [==============================] - 0s 4ms/step - loss: 2.2404 - mae: 2.2404 - mse: 9.2517 - val_loss: 1.9427 - val_mae: 1.9427 - val_mse: 7.1705\n",
            "Epoch 108/300\n",
            "10/10 [==============================] - 0s 3ms/step - loss: 2.1976 - mae: 2.1976 - mse: 9.1073 - val_loss: 1.8846 - val_mae: 1.8846 - val_mse: 7.0319\n",
            "Epoch 109/300\n",
            "10/10 [==============================] - 0s 4ms/step - loss: 2.1575 - mae: 2.1575 - mse: 8.9960 - val_loss: 1.8354 - val_mae: 1.8354 - val_mse: 6.9196\n",
            "Epoch 110/300\n",
            "10/10 [==============================] - 0s 4ms/step - loss: 2.1266 - mae: 2.1266 - mse: 8.9102 - val_loss: 1.7883 - val_mae: 1.7883 - val_mse: 6.8220\n",
            "Epoch 111/300\n",
            "10/10 [==============================] - 0s 4ms/step - loss: 2.0972 - mae: 2.0972 - mse: 8.8192 - val_loss: 1.7490 - val_mae: 1.7490 - val_mse: 6.7373\n",
            "Epoch 112/300\n",
            "10/10 [==============================] - 0s 4ms/step - loss: 2.0711 - mae: 2.0711 - mse: 8.7704 - val_loss: 1.7188 - val_mae: 1.7188 - val_mse: 6.6657\n",
            "Epoch 113/300\n",
            "10/10 [==============================] - 0s 5ms/step - loss: 2.0451 - mae: 2.0451 - mse: 8.7068 - val_loss: 1.6915 - val_mae: 1.6915 - val_mse: 6.6066\n",
            "Epoch 114/300\n",
            "10/10 [==============================] - 0s 3ms/step - loss: 2.0212 - mae: 2.0212 - mse: 8.6480 - val_loss: 1.6701 - val_mae: 1.6701 - val_mse: 6.5601\n",
            "Epoch 115/300\n",
            "10/10 [==============================] - 0s 4ms/step - loss: 2.0004 - mae: 2.0004 - mse: 8.6106 - val_loss: 1.6498 - val_mae: 1.6498 - val_mse: 6.5217\n",
            "Epoch 116/300\n",
            "10/10 [==============================] - 0s 3ms/step - loss: 1.9815 - mae: 1.9815 - mse: 8.5730 - val_loss: 1.6356 - val_mae: 1.6356 - val_mse: 6.4947\n",
            "Epoch 117/300\n",
            "10/10 [==============================] - 0s 4ms/step - loss: 1.9680 - mae: 1.9680 - mse: 8.5587 - val_loss: 1.6211 - val_mae: 1.6211 - val_mse: 6.4726\n",
            "Epoch 118/300\n",
            "10/10 [==============================] - 0s 3ms/step - loss: 1.9543 - mae: 1.9543 - mse: 8.5391 - val_loss: 1.6102 - val_mae: 1.6102 - val_mse: 6.4568\n",
            "Epoch 119/300\n",
            "10/10 [==============================] - 0s 3ms/step - loss: 1.9428 - mae: 1.9428 - mse: 8.5297 - val_loss: 1.6010 - val_mae: 1.6010 - val_mse: 6.4468\n",
            "Epoch 120/300\n",
            "10/10 [==============================] - 0s 4ms/step - loss: 1.9333 - mae: 1.9333 - mse: 8.5230 - val_loss: 1.5977 - val_mae: 1.5977 - val_mse: 6.4415\n",
            "Epoch 121/300\n",
            "10/10 [==============================] - 0s 3ms/step - loss: 1.9274 - mae: 1.9274 - mse: 8.5158 - val_loss: 1.5963 - val_mae: 1.5963 - val_mse: 6.4394\n",
            "Epoch 122/300\n",
            "10/10 [==============================] - 0s 4ms/step - loss: 1.9224 - mae: 1.9224 - mse: 8.5204 - val_loss: 1.5949 - val_mae: 1.5949 - val_mse: 6.4393\n",
            "Epoch 123/300\n",
            "10/10 [==============================] - 0s 4ms/step - loss: 1.9172 - mae: 1.9172 - mse: 8.5167 - val_loss: 1.5947 - val_mae: 1.5947 - val_mse: 6.4412\n",
            "Epoch 124/300\n",
            "10/10 [==============================] - 0s 3ms/step - loss: 1.9128 - mae: 1.9128 - mse: 8.5224 - val_loss: 1.5946 - val_mae: 1.5946 - val_mse: 6.4447\n",
            "Epoch 125/300\n",
            "10/10 [==============================] - 0s 4ms/step - loss: 1.9088 - mae: 1.9088 - mse: 8.5214 - val_loss: 1.5949 - val_mae: 1.5949 - val_mse: 6.4489\n",
            "Epoch 126/300\n",
            "10/10 [==============================] - 0s 5ms/step - loss: 1.9055 - mae: 1.9055 - mse: 8.5249 - val_loss: 1.5952 - val_mae: 1.5952 - val_mse: 6.4541\n",
            "Epoch 127/300\n",
            "10/10 [==============================] - 0s 4ms/step - loss: 1.9026 - mae: 1.9026 - mse: 8.5298 - val_loss: 1.5955 - val_mae: 1.5955 - val_mse: 6.4605\n",
            "Epoch 128/300\n",
            "10/10 [==============================] - 0s 4ms/step - loss: 1.8999 - mae: 1.8999 - mse: 8.5381 - val_loss: 1.5960 - val_mae: 1.5960 - val_mse: 6.4690\n",
            "Epoch 129/300\n",
            "10/10 [==============================] - 0s 4ms/step - loss: 1.8963 - mae: 1.8963 - mse: 8.5434 - val_loss: 1.5972 - val_mae: 1.5972 - val_mse: 6.4773\n",
            "Epoch 130/300\n",
            "10/10 [==============================] - 0s 4ms/step - loss: 1.8939 - mae: 1.8939 - mse: 8.5551 - val_loss: 1.5995 - val_mae: 1.5995 - val_mse: 6.4875\n",
            "Epoch 131/300\n",
            "10/10 [==============================] - 0s 3ms/step - loss: 1.8919 - mae: 1.8919 - mse: 8.5610 - val_loss: 1.6016 - val_mae: 1.6016 - val_mse: 6.4954\n",
            "Epoch 132/300\n",
            "10/10 [==============================] - 0s 3ms/step - loss: 1.8907 - mae: 1.8907 - mse: 8.5693 - val_loss: 1.6035 - val_mae: 1.6035 - val_mse: 6.5035\n",
            "Epoch 133/300\n",
            "10/10 [==============================] - 0s 4ms/step - loss: 1.8892 - mae: 1.8892 - mse: 8.5748 - val_loss: 1.6050 - val_mae: 1.6050 - val_mse: 6.5101\n",
            "Epoch 134/300\n",
            "10/10 [==============================] - 0s 3ms/step - loss: 1.8881 - mae: 1.8881 - mse: 8.5822 - val_loss: 1.6068 - val_mae: 1.6068 - val_mse: 6.5184\n",
            "Epoch 135/300\n",
            "10/10 [==============================] - 0s 4ms/step - loss: 1.8869 - mae: 1.8869 - mse: 8.5885 - val_loss: 1.6087 - val_mae: 1.6087 - val_mse: 6.5282\n",
            "Epoch 136/300\n",
            "10/10 [==============================] - 0s 3ms/step - loss: 1.8854 - mae: 1.8854 - mse: 8.5958 - val_loss: 1.6103 - val_mae: 1.6103 - val_mse: 6.5362\n",
            "Epoch 137/300\n",
            "10/10 [==============================] - 0s 4ms/step - loss: 1.8847 - mae: 1.8847 - mse: 8.6052 - val_loss: 1.6129 - val_mae: 1.6129 - val_mse: 6.5459\n",
            "Epoch 138/300\n",
            "10/10 [==============================] - 0s 3ms/step - loss: 1.8843 - mae: 1.8843 - mse: 8.6102 - val_loss: 1.6143 - val_mae: 1.6143 - val_mse: 6.5507\n",
            "Epoch 139/300\n",
            "10/10 [==============================] - 0s 4ms/step - loss: 1.8843 - mae: 1.8843 - mse: 8.6157 - val_loss: 1.6161 - val_mae: 1.6161 - val_mse: 6.5573\n",
            "Epoch 140/300\n",
            "10/10 [==============================] - 0s 4ms/step - loss: 1.8840 - mae: 1.8840 - mse: 8.6208 - val_loss: 1.6172 - val_mae: 1.6172 - val_mse: 6.5609\n",
            "Epoch 141/300\n",
            "10/10 [==============================] - 0s 4ms/step - loss: 1.8838 - mae: 1.8838 - mse: 8.6241 - val_loss: 1.6181 - val_mae: 1.6181 - val_mse: 6.5644\n",
            "Epoch 142/300\n",
            "10/10 [==============================] - 0s 4ms/step - loss: 1.8836 - mae: 1.8836 - mse: 8.6260 - val_loss: 1.6188 - val_mae: 1.6188 - val_mse: 6.5667\n",
            "Epoch 143/300\n",
            "10/10 [==============================] - 0s 3ms/step - loss: 1.8835 - mae: 1.8835 - mse: 8.6277 - val_loss: 1.6193 - val_mae: 1.6193 - val_mse: 6.5684\n",
            "Epoch 144/300\n",
            "10/10 [==============================] - 0s 4ms/step - loss: 1.8833 - mae: 1.8833 - mse: 8.6306 - val_loss: 1.6204 - val_mae: 1.6204 - val_mse: 6.5724\n",
            "Epoch 145/300\n",
            "10/10 [==============================] - 0s 3ms/step - loss: 1.8832 - mae: 1.8832 - mse: 8.6336 - val_loss: 1.6217 - val_mae: 1.6217 - val_mse: 6.5773\n",
            "Epoch 146/300\n",
            "10/10 [==============================] - 0s 4ms/step - loss: 1.8830 - mae: 1.8830 - mse: 8.6379 - val_loss: 1.6226 - val_mae: 1.6226 - val_mse: 6.5808\n",
            "Epoch 147/300\n",
            "10/10 [==============================] - 0s 3ms/step - loss: 1.8828 - mae: 1.8828 - mse: 8.6413 - val_loss: 1.6234 - val_mae: 1.6234 - val_mse: 6.5841\n",
            "Epoch 148/300\n",
            "10/10 [==============================] - 0s 3ms/step - loss: 1.8827 - mae: 1.8827 - mse: 8.6430 - val_loss: 1.6242 - val_mae: 1.6242 - val_mse: 6.5872\n",
            "Epoch 149/300\n",
            "10/10 [==============================] - 0s 3ms/step - loss: 1.8826 - mae: 1.8826 - mse: 8.6476 - val_loss: 1.6257 - val_mae: 1.6257 - val_mse: 6.5931\n",
            "Epoch 150/300\n",
            "10/10 [==============================] - 0s 3ms/step - loss: 1.8823 - mae: 1.8823 - mse: 8.6503 - val_loss: 1.6260 - val_mae: 1.6260 - val_mse: 6.5944\n",
            "Epoch 151/300\n",
            "10/10 [==============================] - 0s 3ms/step - loss: 1.8822 - mae: 1.8822 - mse: 8.6548 - val_loss: 1.6274 - val_mae: 1.6274 - val_mse: 6.6003\n",
            "Epoch 152/300\n",
            "10/10 [==============================] - 0s 4ms/step - loss: 1.8822 - mae: 1.8822 - mse: 8.6601 - val_loss: 1.6284 - val_mae: 1.6284 - val_mse: 6.6043\n",
            "Epoch 153/300\n",
            "10/10 [==============================] - 0s 4ms/step - loss: 1.8819 - mae: 1.8819 - mse: 8.6599 - val_loss: 1.6281 - val_mae: 1.6281 - val_mse: 6.6026\n",
            "Epoch 154/300\n",
            "10/10 [==============================] - 0s 5ms/step - loss: 1.8820 - mae: 1.8820 - mse: 8.6570 - val_loss: 1.6275 - val_mae: 1.6275 - val_mse: 6.5997\n",
            "Epoch 155/300\n",
            "10/10 [==============================] - 0s 4ms/step - loss: 1.8819 - mae: 1.8819 - mse: 8.6570 - val_loss: 1.6282 - val_mae: 1.6282 - val_mse: 6.6024\n",
            "Epoch 156/300\n",
            "10/10 [==============================] - 0s 4ms/step - loss: 1.8819 - mae: 1.8819 - mse: 8.6594 - val_loss: 1.6283 - val_mae: 1.6283 - val_mse: 6.6026\n",
            "Epoch 157/300\n",
            "10/10 [==============================] - 0s 4ms/step - loss: 1.8818 - mae: 1.8818 - mse: 8.6572 - val_loss: 1.6276 - val_mae: 1.6276 - val_mse: 6.5994\n",
            "Epoch 158/300\n",
            "10/10 [==============================] - 0s 4ms/step - loss: 1.8819 - mae: 1.8819 - mse: 8.6548 - val_loss: 1.6272 - val_mae: 1.6272 - val_mse: 6.5974\n",
            "Epoch 159/300\n",
            "10/10 [==============================] - 0s 3ms/step - loss: 1.8818 - mae: 1.8818 - mse: 8.6566 - val_loss: 1.6282 - val_mae: 1.6282 - val_mse: 6.6015\n",
            "Epoch 160/300\n",
            "10/10 [==============================] - 0s 4ms/step - loss: 1.8817 - mae: 1.8817 - mse: 8.6564 - val_loss: 1.6277 - val_mae: 1.6277 - val_mse: 6.5991\n",
            "Epoch 161/300\n",
            "10/10 [==============================] - 0s 4ms/step - loss: 1.8818 - mae: 1.8818 - mse: 8.6576 - val_loss: 1.6281 - val_mae: 1.6281 - val_mse: 6.6005\n",
            "Epoch 162/300\n",
            "10/10 [==============================] - 0s 4ms/step - loss: 1.8816 - mae: 1.8816 - mse: 8.6558 - val_loss: 1.6276 - val_mae: 1.6276 - val_mse: 6.5981\n",
            "Epoch 163/300\n",
            "10/10 [==============================] - 0s 4ms/step - loss: 1.8817 - mae: 1.8817 - mse: 8.6572 - val_loss: 1.6286 - val_mae: 1.6286 - val_mse: 6.6019\n",
            "Epoch 164/300\n",
            "10/10 [==============================] - 0s 4ms/step - loss: 1.8815 - mae: 1.8815 - mse: 8.6567 - val_loss: 1.6276 - val_mae: 1.6276 - val_mse: 6.5973\n",
            "Epoch 165/300\n",
            "10/10 [==============================] - 0s 4ms/step - loss: 1.8815 - mae: 1.8815 - mse: 8.6539 - val_loss: 1.6276 - val_mae: 1.6276 - val_mse: 6.5970\n",
            "Epoch 166/300\n",
            "10/10 [==============================] - 0s 4ms/step - loss: 1.8815 - mae: 1.8815 - mse: 8.6554 - val_loss: 1.6282 - val_mae: 1.6282 - val_mse: 6.5991\n",
            "Epoch 167/300\n",
            "10/10 [==============================] - 0s 5ms/step - loss: 1.8815 - mae: 1.8815 - mse: 8.6547 - val_loss: 1.6275 - val_mae: 1.6275 - val_mse: 6.5958\n",
            "Epoch 168/300\n",
            "10/10 [==============================] - 0s 4ms/step - loss: 1.8814 - mae: 1.8814 - mse: 8.6539 - val_loss: 1.6279 - val_mae: 1.6279 - val_mse: 6.5976\n",
            "Epoch 169/300\n",
            "10/10 [==============================] - 0s 4ms/step - loss: 1.8817 - mae: 1.8817 - mse: 8.6574 - val_loss: 1.6285 - val_mae: 1.6285 - val_mse: 6.5997\n",
            "Epoch 170/300\n",
            "10/10 [==============================] - 0s 4ms/step - loss: 1.8815 - mae: 1.8815 - mse: 8.6536 - val_loss: 1.6265 - val_mae: 1.6265 - val_mse: 6.5906\n",
            "Epoch 171/300\n",
            "10/10 [==============================] - 0s 3ms/step - loss: 1.8815 - mae: 1.8815 - mse: 8.6477 - val_loss: 1.6265 - val_mae: 1.6265 - val_mse: 6.5902\n",
            "Epoch 172/300\n",
            "10/10 [==============================] - 0s 3ms/step - loss: 1.8814 - mae: 1.8814 - mse: 8.6488 - val_loss: 1.6273 - val_mae: 1.6273 - val_mse: 6.5936\n",
            "Epoch 173/300\n",
            "10/10 [==============================] - 0s 5ms/step - loss: 1.8814 - mae: 1.8814 - mse: 8.6514 - val_loss: 1.6279 - val_mae: 1.6279 - val_mse: 6.5959\n",
            "Epoch 174/300\n",
            "10/10 [==============================] - 0s 3ms/step - loss: 1.8815 - mae: 1.8815 - mse: 8.6557 - val_loss: 1.6288 - val_mae: 1.6288 - val_mse: 6.5992\n",
            "Epoch 175/300\n",
            "10/10 [==============================] - 0s 4ms/step - loss: 1.8811 - mae: 1.8811 - mse: 8.6533 - val_loss: 1.6275 - val_mae: 1.6275 - val_mse: 6.5934\n",
            "Epoch 176/300\n",
            "10/10 [==============================] - 0s 4ms/step - loss: 1.8812 - mae: 1.8812 - mse: 8.6497 - val_loss: 1.6271 - val_mae: 1.6271 - val_mse: 6.5916\n",
            "Epoch 177/300\n",
            "10/10 [==============================] - 0s 5ms/step - loss: 1.8811 - mae: 1.8811 - mse: 8.6500 - val_loss: 1.6274 - val_mae: 1.6274 - val_mse: 6.5925\n",
            "Epoch 178/300\n",
            "10/10 [==============================] - 0s 4ms/step - loss: 1.8810 - mae: 1.8810 - mse: 8.6505 - val_loss: 1.6276 - val_mae: 1.6276 - val_mse: 6.5930\n",
            "Epoch 179/300\n",
            "10/10 [==============================] - 0s 4ms/step - loss: 1.8810 - mae: 1.8810 - mse: 8.6504 - val_loss: 1.6275 - val_mae: 1.6275 - val_mse: 6.5923\n",
            "Epoch 180/300\n",
            "10/10 [==============================] - 0s 4ms/step - loss: 1.8809 - mae: 1.8809 - mse: 8.6502 - val_loss: 1.6274 - val_mae: 1.6274 - val_mse: 6.5915\n",
            "Epoch 181/300\n",
            "10/10 [==============================] - 0s 3ms/step - loss: 1.8811 - mae: 1.8811 - mse: 8.6502 - val_loss: 1.6274 - val_mae: 1.6274 - val_mse: 6.5913\n",
            "Epoch 182/300\n",
            "10/10 [==============================] - 0s 4ms/step - loss: 1.8812 - mae: 1.8812 - mse: 8.6459 - val_loss: 1.6261 - val_mae: 1.6261 - val_mse: 6.5853\n",
            "Epoch 183/300\n",
            "10/10 [==============================] - 0s 4ms/step - loss: 1.8812 - mae: 1.8812 - mse: 8.6473 - val_loss: 1.6277 - val_mae: 1.6277 - val_mse: 6.5920\n",
            "Epoch 184/300\n",
            "10/10 [==============================] - 0s 4ms/step - loss: 1.8808 - mae: 1.8808 - mse: 8.6478 - val_loss: 1.6269 - val_mae: 1.6269 - val_mse: 6.5883\n",
            "Epoch 185/300\n",
            "10/10 [==============================] - 0s 4ms/step - loss: 1.8808 - mae: 1.8808 - mse: 8.6475 - val_loss: 1.6276 - val_mae: 1.6276 - val_mse: 6.5909\n",
            "Epoch 186/300\n",
            "10/10 [==============================] - 0s 4ms/step - loss: 1.8808 - mae: 1.8808 - mse: 8.6482 - val_loss: 1.6271 - val_mae: 1.6271 - val_mse: 6.5884\n",
            "Epoch 187/300\n",
            "10/10 [==============================] - 0s 4ms/step - loss: 1.8807 - mae: 1.8807 - mse: 8.6467 - val_loss: 1.6273 - val_mae: 1.6273 - val_mse: 6.5891\n",
            "Epoch 188/300\n",
            "10/10 [==============================] - 0s 4ms/step - loss: 1.8806 - mae: 1.8806 - mse: 8.6469 - val_loss: 1.6272 - val_mae: 1.6272 - val_mse: 6.5881\n",
            "Epoch 189/300\n",
            "10/10 [==============================] - 0s 4ms/step - loss: 1.8808 - mae: 1.8808 - mse: 8.6491 - val_loss: 1.6280 - val_mae: 1.6280 - val_mse: 6.5911\n",
            "Epoch 190/300\n",
            "10/10 [==============================] - 0s 4ms/step - loss: 1.8805 - mae: 1.8805 - mse: 8.6470 - val_loss: 1.6270 - val_mae: 1.6270 - val_mse: 6.5868\n",
            "Epoch 191/300\n",
            "10/10 [==============================] - 0s 4ms/step - loss: 1.8807 - mae: 1.8807 - mse: 8.6466 - val_loss: 1.6276 - val_mae: 1.6276 - val_mse: 6.5887\n",
            "Epoch 192/300\n",
            "10/10 [==============================] - 0s 4ms/step - loss: 1.8804 - mae: 1.8804 - mse: 8.6455 - val_loss: 1.6267 - val_mae: 1.6267 - val_mse: 6.5847\n",
            "Epoch 193/300\n",
            "10/10 [==============================] - 0s 3ms/step - loss: 1.8806 - mae: 1.8806 - mse: 8.6424 - val_loss: 1.6266 - val_mae: 1.6266 - val_mse: 6.5840\n",
            "Epoch 194/300\n",
            "10/10 [==============================] - 0s 5ms/step - loss: 1.8808 - mae: 1.8808 - mse: 8.6466 - val_loss: 1.6278 - val_mae: 1.6278 - val_mse: 6.5885\n",
            "Epoch 195/300\n",
            "10/10 [==============================] - 0s 4ms/step - loss: 1.8803 - mae: 1.8803 - mse: 8.6440 - val_loss: 1.6266 - val_mae: 1.6266 - val_mse: 6.5830\n",
            "Epoch 196/300\n",
            "10/10 [==============================] - 0s 4ms/step - loss: 1.8804 - mae: 1.8804 - mse: 8.6428 - val_loss: 1.6269 - val_mae: 1.6269 - val_mse: 6.5843\n",
            "Epoch 197/300\n",
            "10/10 [==============================] - 0s 4ms/step - loss: 1.8804 - mae: 1.8804 - mse: 8.6454 - val_loss: 1.6273 - val_mae: 1.6273 - val_mse: 6.5853\n",
            "Epoch 198/300\n",
            "10/10 [==============================] - 0s 4ms/step - loss: 1.8803 - mae: 1.8803 - mse: 8.6420 - val_loss: 1.6267 - val_mae: 1.6267 - val_mse: 6.5827\n",
            "Epoch 199/300\n",
            "10/10 [==============================] - 0s 4ms/step - loss: 1.8803 - mae: 1.8803 - mse: 8.6439 - val_loss: 1.6271 - val_mae: 1.6271 - val_mse: 6.5838\n",
            "Epoch 200/300\n",
            "10/10 [==============================] - 0s 5ms/step - loss: 1.8801 - mae: 1.8801 - mse: 8.6411 - val_loss: 1.6262 - val_mae: 1.6262 - val_mse: 6.5795\n",
            "Epoch 201/300\n",
            "10/10 [==============================] - 0s 3ms/step - loss: 1.8804 - mae: 1.8804 - mse: 8.6367 - val_loss: 1.6255 - val_mae: 1.6255 - val_mse: 6.5760\n",
            "Epoch 202/300\n",
            "10/10 [==============================] - 0s 4ms/step - loss: 1.8802 - mae: 1.8802 - mse: 8.6385 - val_loss: 1.6270 - val_mae: 1.6270 - val_mse: 6.5824\n",
            "Epoch 203/300\n",
            "10/10 [==============================] - 0s 5ms/step - loss: 1.8801 - mae: 1.8801 - mse: 8.6438 - val_loss: 1.6275 - val_mae: 1.6275 - val_mse: 6.5842\n",
            "Epoch 204/300\n",
            "10/10 [==============================] - 0s 4ms/step - loss: 1.8802 - mae: 1.8802 - mse: 8.6406 - val_loss: 1.6267 - val_mae: 1.6267 - val_mse: 6.5806\n",
            "Epoch 205/300\n",
            "10/10 [==============================] - 0s 4ms/step - loss: 1.8799 - mae: 1.8799 - mse: 8.6406 - val_loss: 1.6272 - val_mae: 1.6272 - val_mse: 6.5821\n",
            "Epoch 206/300\n",
            "10/10 [==============================] - 0s 6ms/step - loss: 1.8798 - mae: 1.8798 - mse: 8.6402 - val_loss: 1.6266 - val_mae: 1.6266 - val_mse: 6.5792\n",
            "Epoch 207/300\n",
            "10/10 [==============================] - 0s 3ms/step - loss: 1.8799 - mae: 1.8799 - mse: 8.6372 - val_loss: 1.6264 - val_mae: 1.6264 - val_mse: 6.5782\n",
            "Epoch 208/300\n",
            "10/10 [==============================] - 0s 4ms/step - loss: 1.8797 - mae: 1.8797 - mse: 8.6382 - val_loss: 1.6271 - val_mae: 1.6271 - val_mse: 6.5806\n",
            "Epoch 209/300\n",
            "10/10 [==============================] - 0s 4ms/step - loss: 1.8798 - mae: 1.8798 - mse: 8.6394 - val_loss: 1.6267 - val_mae: 1.6267 - val_mse: 6.5788\n",
            "Epoch 210/300\n",
            "10/10 [==============================] - 0s 4ms/step - loss: 1.8797 - mae: 1.8797 - mse: 8.6377 - val_loss: 1.6265 - val_mae: 1.6265 - val_mse: 6.5772\n",
            "Epoch 211/300\n",
            "10/10 [==============================] - 0s 3ms/step - loss: 1.8797 - mae: 1.8797 - mse: 8.6383 - val_loss: 1.6271 - val_mae: 1.6271 - val_mse: 6.5796\n",
            "Epoch 212/300\n",
            "10/10 [==============================] - 0s 4ms/step - loss: 1.8795 - mae: 1.8795 - mse: 8.6379 - val_loss: 1.6264 - val_mae: 1.6264 - val_mse: 6.5763\n",
            "Epoch 213/300\n",
            "10/10 [==============================] - 0s 4ms/step - loss: 1.8795 - mae: 1.8795 - mse: 8.6345 - val_loss: 1.6260 - val_mae: 1.6260 - val_mse: 6.5741\n",
            "Epoch 214/300\n",
            "10/10 [==============================] - 0s 4ms/step - loss: 1.8795 - mae: 1.8795 - mse: 8.6347 - val_loss: 1.6263 - val_mae: 1.6263 - val_mse: 6.5752\n",
            "Epoch 215/300\n",
            "10/10 [==============================] - 0s 4ms/step - loss: 1.8794 - mae: 1.8794 - mse: 8.6346 - val_loss: 1.6267 - val_mae: 1.6267 - val_mse: 6.5766\n",
            "Epoch 216/300\n",
            "10/10 [==============================] - 0s 3ms/step - loss: 1.8795 - mae: 1.8795 - mse: 8.6379 - val_loss: 1.6275 - val_mae: 1.6275 - val_mse: 6.5793\n",
            "Epoch 217/300\n",
            "10/10 [==============================] - 0s 5ms/step - loss: 1.8795 - mae: 1.8795 - mse: 8.6389 - val_loss: 1.6271 - val_mae: 1.6271 - val_mse: 6.5773\n",
            "Epoch 218/300\n",
            "10/10 [==============================] - 0s 4ms/step - loss: 1.8794 - mae: 1.8794 - mse: 8.6336 - val_loss: 1.6256 - val_mae: 1.6256 - val_mse: 6.5705\n",
            "Epoch 219/300\n",
            "10/10 [==============================] - 0s 3ms/step - loss: 1.8796 - mae: 1.8796 - mse: 8.6360 - val_loss: 1.6270 - val_mae: 1.6270 - val_mse: 6.5761\n",
            "Epoch 220/300\n",
            "10/10 [==============================] - 0s 4ms/step - loss: 1.8793 - mae: 1.8793 - mse: 8.6354 - val_loss: 1.6260 - val_mae: 1.6260 - val_mse: 6.5713\n",
            "Epoch 221/300\n",
            "10/10 [==============================] - 0s 4ms/step - loss: 1.8793 - mae: 1.8793 - mse: 8.6300 - val_loss: 1.6256 - val_mae: 1.6256 - val_mse: 6.5694\n",
            "Epoch 222/300\n",
            "10/10 [==============================] - 0s 4ms/step - loss: 1.8791 - mae: 1.8791 - mse: 8.6299 - val_loss: 1.6259 - val_mae: 1.6259 - val_mse: 6.5702\n",
            "Epoch 223/300\n",
            "10/10 [==============================] - 0s 5ms/step - loss: 1.8791 - mae: 1.8791 - mse: 8.6334 - val_loss: 1.6265 - val_mae: 1.6265 - val_mse: 6.5725\n",
            "Epoch 224/300\n",
            "10/10 [==============================] - 0s 3ms/step - loss: 1.8793 - mae: 1.8793 - mse: 8.6311 - val_loss: 1.6253 - val_mae: 1.6253 - val_mse: 6.5667\n",
            "Epoch 225/300\n",
            "10/10 [==============================] - 0s 3ms/step - loss: 1.8790 - mae: 1.8790 - mse: 8.6293 - val_loss: 1.6266 - val_mae: 1.6266 - val_mse: 6.5721\n",
            "Epoch 226/300\n",
            "10/10 [==============================] - 0s 4ms/step - loss: 1.8789 - mae: 1.8789 - mse: 8.6322 - val_loss: 1.6265 - val_mae: 1.6265 - val_mse: 6.5712\n",
            "Epoch 227/300\n",
            "10/10 [==============================] - 0s 4ms/step - loss: 1.8791 - mae: 1.8791 - mse: 8.6286 - val_loss: 1.6250 - val_mae: 1.6250 - val_mse: 6.5643\n",
            "Epoch 228/300\n",
            "10/10 [==============================] - 0s 4ms/step - loss: 1.8789 - mae: 1.8789 - mse: 8.6268 - val_loss: 1.6260 - val_mae: 1.6260 - val_mse: 6.5684\n",
            "Epoch 229/300\n",
            "10/10 [==============================] - 0s 3ms/step - loss: 1.8789 - mae: 1.8789 - mse: 8.6315 - val_loss: 1.6271 - val_mae: 1.6271 - val_mse: 6.5723\n",
            "Epoch 230/300\n",
            "10/10 [==============================] - 0s 4ms/step - loss: 1.8788 - mae: 1.8788 - mse: 8.6310 - val_loss: 1.6259 - val_mae: 1.6259 - val_mse: 6.5672\n",
            "Epoch 231/300\n",
            "10/10 [==============================] - 0s 4ms/step - loss: 1.8789 - mae: 1.8789 - mse: 8.6256 - val_loss: 1.6245 - val_mae: 1.6245 - val_mse: 6.5606\n",
            "Epoch 232/300\n",
            "10/10 [==============================] - 0s 4ms/step - loss: 1.8787 - mae: 1.8787 - mse: 8.6234 - val_loss: 1.6254 - val_mae: 1.6254 - val_mse: 6.5641\n",
            "Epoch 233/300\n",
            "10/10 [==============================] - 0s 4ms/step - loss: 1.8785 - mae: 1.8785 - mse: 8.6258 - val_loss: 1.6263 - val_mae: 1.6263 - val_mse: 6.5677\n",
            "Epoch 234/300\n",
            "10/10 [==============================] - 0s 4ms/step - loss: 1.8787 - mae: 1.8787 - mse: 8.6312 - val_loss: 1.6271 - val_mae: 1.6271 - val_mse: 6.5704\n",
            "Epoch 235/300\n",
            "10/10 [==============================] - 0s 4ms/step - loss: 1.8785 - mae: 1.8785 - mse: 8.6280 - val_loss: 1.6257 - val_mae: 1.6257 - val_mse: 6.5643\n",
            "Epoch 236/300\n",
            "10/10 [==============================] - 0s 4ms/step - loss: 1.8785 - mae: 1.8785 - mse: 8.6269 - val_loss: 1.6256 - val_mae: 1.6256 - val_mse: 6.5635\n",
            "Epoch 237/300\n",
            "10/10 [==============================] - 0s 5ms/step - loss: 1.8785 - mae: 1.8785 - mse: 8.6246 - val_loss: 1.6250 - val_mae: 1.6250 - val_mse: 6.5605\n",
            "Epoch 238/300\n",
            "10/10 [==============================] - 0s 3ms/step - loss: 1.8783 - mae: 1.8783 - mse: 8.6250 - val_loss: 1.6260 - val_mae: 1.6260 - val_mse: 6.5642\n",
            "Epoch 239/300\n",
            "10/10 [==============================] - 0s 4ms/step - loss: 1.8783 - mae: 1.8783 - mse: 8.6248 - val_loss: 1.6250 - val_mae: 1.6250 - val_mse: 6.5595\n",
            "Epoch 240/300\n",
            "10/10 [==============================] - 0s 3ms/step - loss: 1.8784 - mae: 1.8784 - mse: 8.6204 - val_loss: 1.6246 - val_mae: 1.6246 - val_mse: 6.5573\n",
            "Epoch 241/300\n",
            "10/10 [==============================] - 0s 4ms/step - loss: 1.8782 - mae: 1.8782 - mse: 8.6226 - val_loss: 1.6264 - val_mae: 1.6264 - val_mse: 6.5645\n",
            "Epoch 242/300\n",
            "10/10 [==============================] - 0s 4ms/step - loss: 1.8782 - mae: 1.8782 - mse: 8.6246 - val_loss: 1.6254 - val_mae: 1.6254 - val_mse: 6.5601\n",
            "Epoch 243/300\n",
            "10/10 [==============================] - 0s 4ms/step - loss: 1.8780 - mae: 1.8780 - mse: 8.6223 - val_loss: 1.6256 - val_mae: 1.6256 - val_mse: 6.5606\n",
            "Epoch 244/300\n",
            "10/10 [==============================] - 0s 4ms/step - loss: 1.8780 - mae: 1.8780 - mse: 8.6232 - val_loss: 1.6253 - val_mae: 1.6253 - val_mse: 6.5589\n",
            "Epoch 245/300\n",
            "10/10 [==============================] - 0s 4ms/step - loss: 1.8784 - mae: 1.8784 - mse: 8.6178 - val_loss: 1.6235 - val_mae: 1.6235 - val_mse: 6.5506\n",
            "Epoch 246/300\n",
            "10/10 [==============================] - 0s 4ms/step - loss: 1.8780 - mae: 1.8780 - mse: 8.6159 - val_loss: 1.6250 - val_mae: 1.6250 - val_mse: 6.5566\n",
            "Epoch 247/300\n",
            "10/10 [==============================] - 0s 4ms/step - loss: 1.8784 - mae: 1.8784 - mse: 8.6272 - val_loss: 1.6274 - val_mae: 1.6274 - val_mse: 6.5660\n",
            "Epoch 248/300\n",
            "10/10 [==============================] - 0s 4ms/step - loss: 1.8783 - mae: 1.8783 - mse: 8.6229 - val_loss: 1.6249 - val_mae: 1.6249 - val_mse: 6.5552\n",
            "Epoch 249/300\n",
            "10/10 [==============================] - 0s 4ms/step - loss: 1.8778 - mae: 1.8778 - mse: 8.6188 - val_loss: 1.6256 - val_mae: 1.6256 - val_mse: 6.5581\n",
            "Epoch 250/300\n",
            "10/10 [==============================] - 0s 4ms/step - loss: 1.8777 - mae: 1.8777 - mse: 8.6197 - val_loss: 1.6250 - val_mae: 1.6250 - val_mse: 6.5552\n",
            "Epoch 251/300\n",
            "10/10 [==============================] - 0s 4ms/step - loss: 1.8776 - mae: 1.8776 - mse: 8.6183 - val_loss: 1.6254 - val_mae: 1.6254 - val_mse: 6.5565\n",
            "Epoch 252/300\n",
            "10/10 [==============================] - 0s 4ms/step - loss: 1.8775 - mae: 1.8775 - mse: 8.6179 - val_loss: 1.6250 - val_mae: 1.6250 - val_mse: 6.5540\n",
            "Epoch 253/300\n",
            "10/10 [==============================] - 0s 5ms/step - loss: 1.8777 - mae: 1.8777 - mse: 8.6152 - val_loss: 1.6248 - val_mae: 1.6248 - val_mse: 6.5530\n",
            "Epoch 254/300\n",
            "10/10 [==============================] - 0s 4ms/step - loss: 1.8780 - mae: 1.8780 - mse: 8.6207 - val_loss: 1.6262 - val_mae: 1.6262 - val_mse: 6.5580\n",
            "Epoch 255/300\n",
            "10/10 [==============================] - 0s 4ms/step - loss: 1.8775 - mae: 1.8775 - mse: 8.6164 - val_loss: 1.6241 - val_mae: 1.6241 - val_mse: 6.5489\n",
            "Epoch 256/300\n",
            "10/10 [==============================] - 0s 4ms/step - loss: 1.8780 - mae: 1.8780 - mse: 8.6093 - val_loss: 1.6228 - val_mae: 1.6228 - val_mse: 6.5428\n",
            "Epoch 257/300\n",
            "10/10 [==============================] - 0s 4ms/step - loss: 1.8774 - mae: 1.8774 - mse: 8.6112 - val_loss: 1.6250 - val_mae: 1.6250 - val_mse: 6.5520\n",
            "Epoch 258/300\n",
            "10/10 [==============================] - 0s 4ms/step - loss: 1.8773 - mae: 1.8773 - mse: 8.6171 - val_loss: 1.6257 - val_mae: 1.6257 - val_mse: 6.5544\n",
            "Epoch 259/300\n",
            "10/10 [==============================] - 0s 5ms/step - loss: 1.8773 - mae: 1.8773 - mse: 8.6131 - val_loss: 1.6241 - val_mae: 1.6241 - val_mse: 6.5473\n",
            "Epoch 260/300\n",
            "10/10 [==============================] - 0s 5ms/step - loss: 1.8772 - mae: 1.8772 - mse: 8.6142 - val_loss: 1.6251 - val_mae: 1.6251 - val_mse: 6.5510\n",
            "Epoch 261/300\n",
            "10/10 [==============================] - 0s 4ms/step - loss: 1.8769 - mae: 1.8769 - mse: 8.6132 - val_loss: 1.6242 - val_mae: 1.6242 - val_mse: 6.5469\n",
            "Epoch 262/300\n",
            "10/10 [==============================] - 0s 4ms/step - loss: 1.8771 - mae: 1.8771 - mse: 8.6087 - val_loss: 1.6235 - val_mae: 1.6235 - val_mse: 6.5433\n",
            "Epoch 263/300\n",
            "10/10 [==============================] - 0s 4ms/step - loss: 1.8770 - mae: 1.8770 - mse: 8.6079 - val_loss: 1.6240 - val_mae: 1.6240 - val_mse: 6.5451\n",
            "Epoch 264/300\n",
            "10/10 [==============================] - 0s 4ms/step - loss: 1.8770 - mae: 1.8770 - mse: 8.6083 - val_loss: 1.6242 - val_mae: 1.6242 - val_mse: 6.5454\n",
            "Epoch 265/300\n",
            "10/10 [==============================] - 0s 5ms/step - loss: 1.8771 - mae: 1.8771 - mse: 8.6144 - val_loss: 1.6267 - val_mae: 1.6267 - val_mse: 6.5552\n",
            "Epoch 266/300\n",
            "10/10 [==============================] - 0s 4ms/step - loss: 1.8769 - mae: 1.8769 - mse: 8.6141 - val_loss: 1.6247 - val_mae: 1.6247 - val_mse: 6.5469\n",
            "Epoch 267/300\n",
            "10/10 [==============================] - 0s 4ms/step - loss: 1.8768 - mae: 1.8768 - mse: 8.6082 - val_loss: 1.6242 - val_mae: 1.6242 - val_mse: 6.5442\n",
            "Epoch 268/300\n",
            "10/10 [==============================] - 0s 4ms/step - loss: 1.8766 - mae: 1.8766 - mse: 8.6094 - val_loss: 1.6245 - val_mae: 1.6245 - val_mse: 6.5450\n",
            "Epoch 269/300\n",
            "10/10 [==============================] - 0s 4ms/step - loss: 1.8765 - mae: 1.8765 - mse: 8.6091 - val_loss: 1.6244 - val_mae: 1.6244 - val_mse: 6.5442\n",
            "Epoch 270/300\n",
            "10/10 [==============================] - 0s 4ms/step - loss: 1.8765 - mae: 1.8765 - mse: 8.6084 - val_loss: 1.6245 - val_mae: 1.6245 - val_mse: 6.5439\n",
            "Epoch 271/300\n",
            "10/10 [==============================] - 0s 4ms/step - loss: 1.8764 - mae: 1.8764 - mse: 8.6082 - val_loss: 1.6242 - val_mae: 1.6242 - val_mse: 6.5421\n",
            "Epoch 272/300\n",
            "10/10 [==============================] - 0s 4ms/step - loss: 1.8767 - mae: 1.8767 - mse: 8.6034 - val_loss: 1.6224 - val_mae: 1.6224 - val_mse: 6.5339\n",
            "Epoch 273/300\n",
            "10/10 [==============================] - 0s 4ms/step - loss: 1.8766 - mae: 1.8766 - mse: 8.6006 - val_loss: 1.6228 - val_mae: 1.6228 - val_mse: 6.5352\n",
            "Epoch 274/300\n",
            "10/10 [==============================] - 0s 4ms/step - loss: 1.8764 - mae: 1.8764 - mse: 8.6068 - val_loss: 1.6253 - val_mae: 1.6253 - val_mse: 6.5454\n",
            "Epoch 275/300\n",
            "10/10 [==============================] - 0s 5ms/step - loss: 1.8763 - mae: 1.8763 - mse: 8.6099 - val_loss: 1.6254 - val_mae: 1.6254 - val_mse: 6.5452\n",
            "Epoch 276/300\n",
            "10/10 [==============================] - 0s 4ms/step - loss: 1.8764 - mae: 1.8764 - mse: 8.6039 - val_loss: 1.6230 - val_mae: 1.6230 - val_mse: 6.5344\n",
            "Epoch 277/300\n",
            "10/10 [==============================] - 0s 4ms/step - loss: 1.8762 - mae: 1.8762 - mse: 8.6029 - val_loss: 1.6245 - val_mae: 1.6245 - val_mse: 6.5406\n",
            "Epoch 278/300\n",
            "10/10 [==============================] - 0s 6ms/step - loss: 1.8763 - mae: 1.8763 - mse: 8.6033 - val_loss: 1.6233 - val_mae: 1.6233 - val_mse: 6.5352\n",
            "Epoch 279/300\n",
            "10/10 [==============================] - 0s 4ms/step - loss: 1.8761 - mae: 1.8761 - mse: 8.6044 - val_loss: 1.6247 - val_mae: 1.6247 - val_mse: 6.5406\n",
            "Epoch 280/300\n",
            "10/10 [==============================] - 0s 4ms/step - loss: 1.8759 - mae: 1.8759 - mse: 8.6038 - val_loss: 1.6236 - val_mae: 1.6236 - val_mse: 6.5355\n",
            "Epoch 281/300\n",
            "10/10 [==============================] - 0s 4ms/step - loss: 1.8760 - mae: 1.8760 - mse: 8.5996 - val_loss: 1.6230 - val_mae: 1.6230 - val_mse: 6.5323\n",
            "Epoch 282/300\n",
            "10/10 [==============================] - 0s 4ms/step - loss: 1.8758 - mae: 1.8758 - mse: 8.6002 - val_loss: 1.6245 - val_mae: 1.6245 - val_mse: 6.5382\n",
            "Epoch 283/300\n",
            "10/10 [==============================] - 0s 5ms/step - loss: 1.8760 - mae: 1.8760 - mse: 8.6022 - val_loss: 1.6232 - val_mae: 1.6232 - val_mse: 6.5321\n",
            "Epoch 284/300\n",
            "10/10 [==============================] - 0s 4ms/step - loss: 1.8758 - mae: 1.8758 - mse: 8.6012 - val_loss: 1.6241 - val_mae: 1.6241 - val_mse: 6.5357\n",
            "Epoch 285/300\n",
            "10/10 [==============================] - 0s 4ms/step - loss: 1.8756 - mae: 1.8756 - mse: 8.5990 - val_loss: 1.6237 - val_mae: 1.6237 - val_mse: 6.5335\n",
            "Epoch 286/300\n",
            "10/10 [==============================] - 0s 4ms/step - loss: 1.8756 - mae: 1.8756 - mse: 8.5994 - val_loss: 1.6246 - val_mae: 1.6246 - val_mse: 6.5368\n",
            "Epoch 287/300\n",
            "10/10 [==============================] - 0s 4ms/step - loss: 1.8756 - mae: 1.8756 - mse: 8.6016 - val_loss: 1.6233 - val_mae: 1.6233 - val_mse: 6.5307\n",
            "Epoch 288/300\n",
            "10/10 [==============================] - 0s 4ms/step - loss: 1.8754 - mae: 1.8754 - mse: 8.5974 - val_loss: 1.6238 - val_mae: 1.6238 - val_mse: 6.5325\n",
            "Epoch 289/300\n",
            "10/10 [==============================] - 0s 5ms/step - loss: 1.8755 - mae: 1.8755 - mse: 8.5998 - val_loss: 1.6247 - val_mae: 1.6247 - val_mse: 6.5355\n",
            "Epoch 290/300\n",
            "10/10 [==============================] - 0s 5ms/step - loss: 1.8753 - mae: 1.8753 - mse: 8.5985 - val_loss: 1.6230 - val_mae: 1.6230 - val_mse: 6.5280\n",
            "Epoch 291/300\n",
            "10/10 [==============================] - 0s 4ms/step - loss: 1.8752 - mae: 1.8752 - mse: 8.5948 - val_loss: 1.6232 - val_mae: 1.6232 - val_mse: 6.5286\n",
            "Epoch 292/300\n",
            "10/10 [==============================] - 0s 4ms/step - loss: 1.8753 - mae: 1.8753 - mse: 8.5986 - val_loss: 1.6240 - val_mae: 1.6240 - val_mse: 6.5312\n",
            "Epoch 293/300\n",
            "10/10 [==============================] - 0s 4ms/step - loss: 1.8751 - mae: 1.8751 - mse: 8.5964 - val_loss: 1.6231 - val_mae: 1.6231 - val_mse: 6.5270\n",
            "Epoch 294/300\n",
            "10/10 [==============================] - 0s 5ms/step - loss: 1.8751 - mae: 1.8751 - mse: 8.5954 - val_loss: 1.6240 - val_mae: 1.6240 - val_mse: 6.5301\n",
            "Epoch 295/300\n",
            "10/10 [==============================] - 0s 4ms/step - loss: 1.8751 - mae: 1.8751 - mse: 8.5967 - val_loss: 1.6233 - val_mae: 1.6233 - val_mse: 6.5268\n",
            "Epoch 296/300\n",
            "10/10 [==============================] - 0s 4ms/step - loss: 1.8752 - mae: 1.8752 - mse: 8.5898 - val_loss: 1.6211 - val_mae: 1.6211 - val_mse: 6.5164\n",
            "Epoch 297/300\n",
            "10/10 [==============================] - 0s 4ms/step - loss: 1.8752 - mae: 1.8752 - mse: 8.5837 - val_loss: 1.6220 - val_mae: 1.6220 - val_mse: 6.5199\n",
            "Epoch 298/300\n",
            "10/10 [==============================] - 0s 4ms/step - loss: 1.8748 - mae: 1.8748 - mse: 8.5906 - val_loss: 1.6238 - val_mae: 1.6238 - val_mse: 6.5272\n",
            "Epoch 299/300\n",
            "10/10 [==============================] - 0s 4ms/step - loss: 1.8747 - mae: 1.8747 - mse: 8.5931 - val_loss: 1.6232 - val_mae: 1.6232 - val_mse: 6.5244\n",
            "Epoch 300/300\n",
            "10/10 [==============================] - 0s 4ms/step - loss: 1.8747 - mae: 1.8747 - mse: 8.5905 - val_loss: 1.6226 - val_mae: 1.6226 - val_mse: 6.5214\n"
          ],
          "name": "stdout"
        }
      ]
    },
    {
      "cell_type": "code",
      "metadata": {
        "colab": {
          "base_uri": "https://localhost:8080/"
        },
        "id": "bGQ3GZ2TcllK",
        "outputId": "71045524-e0ba-4ab1-9ab6-f59613fad7e8"
      },
      "source": [
        "print(history)"
      ],
      "execution_count": null,
      "outputs": [
        {
          "output_type": "stream",
          "text": [
            "<tensorflow.python.keras.callbacks.History object at 0x7f51d48b1610>\n"
          ],
          "name": "stdout"
        }
      ]
    },
    {
      "cell_type": "code",
      "metadata": {
        "colab": {
          "base_uri": "https://localhost:8080/"
        },
        "id": "3t8ShLyNELoV",
        "outputId": "94d224f5-3a8a-42c2-bd4f-b9f344f9f2f8"
      },
      "source": [
        "model.summary()"
      ],
      "execution_count": null,
      "outputs": [
        {
          "output_type": "stream",
          "text": [
            "Model: \"sequential\"\n",
            "_________________________________________________________________\n",
            "Layer (type)                 Output Shape              Param #   \n",
            "=================================================================\n",
            "dense (Dense)                (None, 1)                 2         \n",
            "=================================================================\n",
            "Total params: 2\n",
            "Trainable params: 2\n",
            "Non-trainable params: 0\n",
            "_________________________________________________________________\n"
          ],
          "name": "stdout"
        }
      ]
    },
    {
      "cell_type": "code",
      "metadata": {
        "colab": {
          "base_uri": "https://localhost:8080/",
          "height": 705
        },
        "id": "2EzuNV04EUgt",
        "outputId": "97b9c4a4-750a-4cab-ddeb-29e918adad41"
      },
      "source": [
        "# string --> loss , mae, mse\n",
        "\n",
        "def plotGraphs(history, string): \n",
        "  plt.plot(history.history[string])\n",
        "  plt.plot(history.history[f'val_{string}'])\n",
        "  plt.xlabel('Num of Epochs')\n",
        "  plt.ylabel(string)\n",
        "  plt.legend([string, f'val_{string}'])\n",
        "  plt.show()\n",
        "\n",
        "plotGraphs(history, 'loss')\n",
        "plotGraphs(history, 'mae')"
      ],
      "execution_count": null,
      "outputs": [
        {
          "output_type": "display_data",
          "data": {
            "image/png": "[encoded data removed]",
            "text/plain": [
              "<Figure size 576x396 with 1 Axes>"
            ]
          },
          "metadata": {
            "tags": []
          }
        },
        {
          "output_type": "display_data",
          "data": {
            "image/png": "[encoded data removed]",
            "text/plain": [
              "<Figure size 576x396 with 1 Axes>"
            ]
          },
          "metadata": {
            "tags": []
          }
        }
      ]
    },
    {
      "cell_type": "code",
      "metadata": {
        "colab": {
          "base_uri": "https://localhost:8080/",
          "height": 1000
        },
        "id": "QBTzQ83pUWA5",
        "outputId": "f1e625e3-76f8-490f-fd2d-1859d1720ce3"
      },
      "source": [
        "# tempString = 'mse'\n",
        "def curvePlots(tempString):\n",
        "  plt.plot(history.history[tempString])\n",
        "  plt.plot(history.history[f'val_{tempString}'])\n",
        "  plt.xlabel('NumEpochs')\n",
        "  plt.ylabel(tempString)\n",
        "  plt.legend([tempString, f'val_{tempString}'])\n",
        "  plt.show()\n",
        "\n",
        "\n",
        "curvePlots('mse')\n",
        "curvePlots('mae')\n",
        "curvePlots('loss')"
      ],
      "execution_count": null,
      "outputs": [
        {
          "output_type": "display_data",
          "data": {
            "image/png": "[encoded data removed]",
            "text/plain": [
              "<Figure size 576x396 with 1 Axes>"
            ]
          },
          "metadata": {
            "tags": []
          }
        },
        {
          "output_type": "display_data",
          "data": {
            "image/png": "[encoded data removed]",
            "text/plain": [
              "<Figure size 576x396 with 1 Axes>"
            ]
          },
          "metadata": {
            "tags": []
          }
        },
        {
          "output_type": "display_data",
          "data": {
            "image/png": "[encoded data removed]",
            "text/plain": [
              "<Figure size 576x396 with 1 Axes>"
            ]
          },
          "metadata": {
            "tags": []
          }
        }
      ]
    },
    {
      "cell_type": "code",
      "metadata": {
        "colab": {
          "base_uri": "https://localhost:8080/"
        },
        "id": "O-wn_XxKWaRs",
        "outputId": "49541173-d9be-4d5c-9abc-555ea4830e60"
      },
      "source": [
        "model.predict([1])"
      ],
      "execution_count": null,
      "outputs": [
        {
          "output_type": "execute_result",
          "data": {
            "text/plain": [
              "array([[1.819124]], dtype=float32)"
            ]
          },
          "metadata": {
            "tags": []
          },
          "execution_count": 25
        }
      ]
    },
    {
      "cell_type": "code",
      "metadata": {
        "colab": {
          "base_uri": "https://localhost:8080/"
        },
        "id": "uC3Osn3eWxV7",
        "outputId": "46730fe9-400f-4812-861d-953aaed5026f"
      },
      "source": [
        "# testPreds = model.predict(testFeatures).flatten() #array of all prediction values\n",
        "\n",
        "#prediction for single value\n",
        "\n",
        "print(f'Prediction for input value 1: {model.predict([1])}')\n",
        "\n",
        "# for a list of values\n",
        "tempListOfPreds = [1,2,3,4,5]\n",
        "print(f'''\n",
        "\n",
        "input List = {tempListOfPreds}\n",
        "\n",
        "List of predictions:\n",
        "{model.predict(tempListOfPreds)}\n",
        "\n",
        "List of predictions (flattened out):\n",
        "{model.predict(tempListOfPreds).flatten()}\n",
        "'''\n",
        ")"
      ],
      "execution_count": null,
      "outputs": [
        {
          "output_type": "stream",
          "text": [
            "Prediction for input value 1: [[1.819124]]\n",
            "\n",
            "\n",
            "input List = [1, 2, 3, 4, 5]\n",
            "\n",
            "List of predictions:\n",
            "[[1.819124 ]\n",
            " [2.7443693]\n",
            " [3.6696146]\n",
            " [4.59486  ]\n",
            " [5.5201054]]\n",
            "\n",
            "List of predictions (flattened out):\n",
            "[1.819124  2.7443693 3.6696146 4.59486   5.5201054]\n",
            "\n"
          ],
          "name": "stdout"
        }
      ]
    },
    {
      "cell_type": "code",
      "metadata": {
        "colab": {
          "base_uri": "https://localhost:8080/"
        },
        "id": "JrvfVcDqa4Qn",
        "outputId": "540710fe-8cac-47d9-b753-430f504c67c7"
      },
      "source": [
        "print(testFeatures)"
      ],
      "execution_count": null,
      "outputs": [
        {
          "output_type": "stream",
          "text": [
            "     G1\n",
            "9    14\n",
            "25    6\n",
            "28   11\n",
            "31   17\n",
            "32   17\n",
            "..   ..\n",
            "365  10\n",
            "367   7\n",
            "379  10\n",
            "381   7\n",
            "393  11\n",
            "\n",
            "[79 rows x 1 columns]\n"
          ],
          "name": "stdout"
        }
      ]
    },
    {
      "cell_type": "code",
      "metadata": {
        "id": "fpNN0XjsbE5B"
      },
      "source": [
        "testPreds = model.predict(testFeatures).flatten()"
      ],
      "execution_count": null,
      "outputs": []
    },
    {
      "cell_type": "code",
      "metadata": {
        "colab": {
          "base_uri": "https://localhost:8080/"
        },
        "id": "6dckW6pZbcUM",
        "outputId": "80bfa1c9-f62a-427b-bb02-da2ffbf7d13e"
      },
      "source": [
        "print(len(testPreds))\n",
        "print(testPreds)"
      ],
      "execution_count": null,
      "outputs": [
        {
          "output_type": "stream",
          "text": [
            "79\n",
            "[13.847313   6.4453506 11.071577  16.623049  16.623049  11.996822\n",
            " 13.847313  18.47354   18.47354    8.295841  13.847313  12.922068\n",
            "  8.295841   7.370596   9.2210865 12.922068  11.071577  15.6978035\n",
            "  7.370596  10.146332  14.772558  12.922068  13.847313  15.6978035\n",
            "  7.370596   7.370596   8.295841  10.146332  11.996822  10.146332\n",
            " 11.996822  12.922068  10.146332   6.4453506  9.2210865 11.996822\n",
            "  7.370596   8.295841  13.847313   9.2210865  9.2210865  7.370596\n",
            " 11.996822   6.4453506 12.922068   7.370596   7.370596  11.071577\n",
            " 12.922068  16.623049  11.996822  14.772558   9.2210865 11.996822\n",
            " 14.772558  11.996822  14.772558  11.996822  14.772558  11.071577\n",
            " 11.996822   8.295841  15.6978035  7.370596  15.6978035 11.071577\n",
            " 15.6978035 12.922068   8.295841   8.295841  11.996822  17.548294\n",
            " 12.922068  15.6978035 10.146332   7.370596  10.146332   7.370596\n",
            " 11.071577 ]\n"
          ],
          "name": "stdout"
        }
      ]
    },
    {
      "cell_type": "code",
      "metadata": {
        "colab": {
          "base_uri": "https://localhost:8080/",
          "height": 361
        },
        "id": "M3EIRUDgdOvt",
        "outputId": "3f522157-86a5-4246-e6c9-517d974280dd"
      },
      "source": [
        "# prediction plot --> how well is your model predicting across the actual labels\n",
        "\n",
        "def predPlot(labels, predictions):\n",
        "  plt.scatter(labels, predictions)\n",
        "  plt.ylabel('Predictions')\n",
        "  plt.xlabel('True Value or Labels')\n",
        "  plt.axis('equal')\n",
        "  plt.axis('square')\n",
        "  plt.xlim([0, plt.xlim()[1]])\n",
        "  plt.ylim([0, plt.ylim()[1]])\n",
        "  plt.show()\n",
        "\n",
        "predPlot(testLabels, testPreds)"
      ],
      "execution_count": null,
      "outputs": [
        {
          "output_type": "display_data",
          "data": {
            "image/png": "[encoded data removed]",
            "text/plain": [
              "<Figure size 576x396 with 1 Axes>"
            ]
          },
          "metadata": {
            "tags": []
          }
        }
      ]
    },
    {
      "cell_type": "code",
      "metadata": {
        "colab": {
          "base_uri": "https://localhost:8080/",
          "height": 361
        },
        "id": "A4Ulk6J-eFiQ",
        "outputId": "ec4cd56e-e6a1-40d4-f22e-f27985e60a2a"
      },
      "source": [
        "# error plot --> gaussian distribution\n",
        "\n",
        "def errorPlot(preds, labels, counts):\n",
        "  errors = preds-labels\n",
        "  plt.hist(errors, counts)\n",
        "  plt.xlabel('Error')\n",
        "  plt.ylabel('Counts')\n",
        "  plt.show()\n",
        "\n",
        "errorPlot(testPreds, testLabels, numEpochs)"
      ],
      "execution_count": null,
      "outputs": [
        {
          "output_type": "display_data",
          "data": {
            "image/png": "[encoded data removed]",
            "text/plain": [
              "<Figure size 576x396 with 1 Axes>"
            ]
          },
          "metadata": {
            "tags": []
          }
        }
      ]
    }
  ]
}